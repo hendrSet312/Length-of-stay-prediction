{
 "cells": [
  {
   "cell_type": "markdown",
   "metadata": {},
   "source": [
    "# Preparing Dataset"
   ]
  },
  {
   "cell_type": "code",
   "execution_count": null,
   "metadata": {
    "execution": {
     "iopub.execute_input": "2024-12-08T01:18:16.000813Z",
     "iopub.status.busy": "2024-12-08T01:18:16.000268Z",
     "iopub.status.idle": "2024-12-08T01:18:18.942611Z",
     "shell.execute_reply": "2024-12-08T01:18:18.941149Z",
     "shell.execute_reply.started": "2024-12-08T01:18:16.000754Z"
    },
    "id": "crv-SzTfVJgD",
    "trusted": true
   },
   "outputs": [
    {
     "data": {
      "text/html": [
       "        <script type=\"text/javascript\">\n",
       "        window.PlotlyConfig = {MathJaxConfig: 'local'};\n",
       "        if (window.MathJax && window.MathJax.Hub && window.MathJax.Hub.Config) {window.MathJax.Hub.Config({SVG: {font: \"STIX-Web\"}});}\n",
       "        if (typeof require !== 'undefined') {\n",
       "        require.undef(\"plotly\");\n",
       "        requirejs.config({\n",
       "            paths: {\n",
       "                'plotly': ['https://cdn.plot.ly/plotly-2.32.0.min']\n",
       "            }\n",
       "        });\n",
       "        require(['plotly'], function(Plotly) {\n",
       "            window._Plotly = Plotly;\n",
       "        });\n",
       "        }\n",
       "        </script>\n",
       "        "
      ]
     },
     "metadata": {},
     "output_type": "display_data"
    },
    {
     "name": "stderr",
     "output_type": "stream",
     "text": [
      "/opt/conda/lib/python3.10/pty.py:89: RuntimeWarning:\n",
      "\n",
      "Using fork() can cause Polars to deadlock in the child process.\n",
      "In addition, using fork() with Python in general is a recipe for mysterious\n",
      "deadlocks and crashes.\n",
      "\n",
      "The most likely reason you are seeing this error is because you are using the\n",
      "multiprocessing module on Linux, which uses fork() by default. This will be\n",
      "fixed in Python 3.14. Until then, you want to use the \"spawn\" context instead.\n",
      "\n",
      "See https://docs.pola.rs/user-guide/misc/multiprocessing/ for details.\n",
      "\n",
      "\n"
     ]
    },
    {
     "name": "stdout",
     "output_type": "stream",
     "text": [
      "mkdir: cannot create directory 'lokahi': File exists\n"
     ]
    }
   ],
   "source": [
    "import shutil\n",
    "import polars as pl\n",
    "import numpy as np\n",
    "import os\n",
    "from fe_polars.encoding.target_encoding import TargetEncoder\n",
    "from sklearn.metrics import mean_absolute_error,r2_score,mean_squared_error\n",
    "import joblib\n",
    "\n",
    "!mkdir lokahi"
   ]
  },
  {
   "cell_type": "code",
   "execution_count": null,
   "metadata": {
    "execution": {
     "iopub.execute_input": "2024-12-08T01:11:10.721444Z",
     "iopub.status.busy": "2024-12-08T01:11:10.721033Z",
     "iopub.status.idle": "2024-12-08T01:11:37.026516Z",
     "shell.execute_reply": "2024-12-08T01:11:37.024724Z",
     "shell.execute_reply.started": "2024-12-08T01:11:10.721408Z"
    },
    "id": "FqzJe6W8QWJ-",
    "trusted": true
   },
   "outputs": [],
   "source": [
    "shutil.unpack_archive('Lokahi_Innovation_in_Healthcare_Hackahton.zip.zip', 'lokahi/')"
   ]
  },
  {
   "cell_type": "code",
   "execution_count": 6,
   "metadata": {
    "execution": {
     "iopub.execute_input": "2024-12-08T01:11:37.028648Z",
     "iopub.status.busy": "2024-12-08T01:11:37.028227Z",
     "iopub.status.idle": "2024-12-08T01:12:07.416937Z",
     "shell.execute_reply": "2024-12-08T01:12:07.414284Z",
     "shell.execute_reply.started": "2024-12-08T01:11:37.028596Z"
    },
    "id": "FEMTEjH4Wy97",
    "trusted": true
   },
   "outputs": [],
   "source": [
    "def combine_parquet(dir_path):\n",
    "  files = os.listdir(dir_path)\n",
    "  filtered_files = [os.path.join(dir_path,file) for file in files if file.endswith('.parquet')]\n",
    "\n",
    "  lazy_frames = [pl.read_parquet(file).lazy() for file in filtered_files]\n",
    "  combined_frame = pl.concat(lazy_frames)\n",
    "\n",
    "  return combined_frame.collect()\n",
    "\n",
    "data_dict = {\n",
    "    'member':combine_parquet('lokahi/Lokahi_Innovation_in_Healthcare_Hackahton/Claims_Member'),\n",
    "    'provider':combine_parquet('lokahi/Lokahi_Innovation_in_Healthcare_Hackahton/Claims_Provider'),\n",
    "    'services':combine_parquet('lokahi/Lokahi_Innovation_in_Healthcare_Hackahton/Claims_Services'),\n",
    "    'enrollment':combine_parquet('lokahi/Lokahi_Innovation_in_Healthcare_Hackahton/Claims_Enrollment')\n",
    "}"
   ]
  },
  {
   "cell_type": "markdown",
   "metadata": {},
   "source": [
    "## EDA"
   ]
  },
  {
   "cell_type": "markdown",
   "metadata": {},
   "source": [
    "## Enrollment"
   ]
  },
  {
   "cell_type": "code",
   "execution_count": 7,
   "metadata": {
    "execution": {
     "iopub.execute_input": "2024-12-08T01:12:07.420942Z",
     "iopub.status.busy": "2024-12-08T01:12:07.420314Z",
     "iopub.status.idle": "2024-12-08T01:12:07.460027Z",
     "shell.execute_reply": "2024-12-08T01:12:07.458592Z",
     "shell.execute_reply.started": "2024-12-08T01:12:07.420883Z"
    },
    "trusted": true
   },
   "outputs": [
    {
     "data": {
      "text/html": [
       "<div><style>\n",
       ".dataframe > thead > tr,\n",
       ".dataframe > tbody > tr {\n",
       "  text-align: right;\n",
       "  white-space: pre-wrap;\n",
       "}\n",
       "</style>\n",
       "<small>shape: (5, 17)</small><table border=\"1\" class=\"dataframe\"><thead><tr><th>PRIMARY_PERSON_KEY</th><th>MEMBER_ID</th><th>MEMBER_MONTH_START_DATE</th><th>YEARMO</th><th>MEM_AGE</th><th>RELATION</th><th>MEM_MSA_NAME</th><th>PAYER_LOB</th><th>PAYER_TYPE</th><th>PROD_TYPE</th><th>QTY_MM_MD</th><th>QTY_MM_RX</th><th>QTY_MM_DN</th><th>QTY_MM_VS</th><th>MEM_STAT</th><th>PRIMARY_CHRONIC_CONDITION_ROLLUP_ID</th><th>PRIMARY_CHRONIC_CONDITION_ROLLUP_DESC</th></tr><tr><td>str</td><td>str</td><td>date</td><td>str</td><td>str</td><td>str</td><td>str</td><td>str</td><td>str</td><td>str</td><td>f32</td><td>f32</td><td>f32</td><td>f32</td><td>str</td><td>i32</td><td>str</td></tr></thead><tbody><tr><td>&quot;1E9F89247B2EA224292BDA829&quot;</td><td>&quot;1E9F89247B2EA224292BDA829&quot;</td><td>2022-12-01</td><td>&quot;202212&quot;</td><td>&quot;22&quot;</td><td>&quot;DEPENDENT&quot;</td><td>&quot;NON-MSA AREA, HI&quot;</td><td>&quot;COMMERCIAL&quot;</td><td>&quot;PPO&quot;</td><td>&quot;MEDICAL&quot;</td><td>1.0</td><td>0.0</td><td>0.0</td><td>0.0</td><td>&quot;ACTIVE&quot;</td><td>130</td><td>&quot;130 - HEALTHY MALE (16-40)&quot;</td></tr><tr><td>&quot;D1EF2D981338A9E0576D2B2B5&quot;</td><td>&quot;D1EF2D981338A9E0576D2B2B5&quot;</td><td>2024-01-01</td><td>&quot;202401&quot;</td><td>&quot;53&quot;</td><td>&quot;SUBSCRIBER&quot;</td><td>&quot;SALINAS, CA&quot;</td><td>&quot;MEDICAID&quot;</td><td>&quot;MLI&quot;</td><td>&quot;MEDICAL&quot;</td><td>1.0</td><td>0.0</td><td>0.0</td><td>0.0</td><td>null</td><td>131</td><td>&quot;131 - HEALTHY MALE (41-64)&quot;</td></tr><tr><td>&quot;7965E84FF729EE6EC7AF3107F&quot;</td><td>&quot;7965E84FF729EE6EC7AF3107F&quot;</td><td>2024-06-01</td><td>&quot;202406&quot;</td><td>&quot;72&quot;</td><td>&quot;SUBSCRIBER&quot;</td><td>&quot;SAGINAW, MI&quot;</td><td>&quot;MEDICARE SUPPLEMENT&quot;</td><td>&quot;MS&quot;</td><td>&quot;DENTAL&quot;</td><td>0.0</td><td>0.0</td><td>1.0</td><td>0.0</td><td>null</td><td>104</td><td>&quot;104 - RENAL FAILURE AND/OR POS…</td></tr><tr><td>&quot;D7A1B231B24EF5A687C581085&quot;</td><td>&quot;D7A1B231B24EF5A687C581085&quot;</td><td>2022-09-01</td><td>&quot;202209&quot;</td><td>&quot;32&quot;</td><td>null</td><td>&quot;DETROIT-DEARBORN-LIVONIA, MI&quot;</td><td>&quot;MEDICAID&quot;</td><td>&quot;ME&quot;</td><td>&quot;RX&quot;</td><td>0.0</td><td>1.0</td><td>0.0</td><td>0.0</td><td>&quot;ACTIVE&quot;</td><td>138</td><td>&quot;138 - HEALTHY FEMALE (16-40)&quot;</td></tr><tr><td>&quot;272B94FB4B3A6D6C646B91349&quot;</td><td>&quot;272B94FB4B3A6D6C646B91349&quot;</td><td>2024-06-01</td><td>&quot;202406&quot;</td><td>&quot;62&quot;</td><td>&quot;SUBSCRIBER&quot;</td><td>&quot;FLINT, MI&quot;</td><td>&quot;MEDICAID&quot;</td><td>&quot;MLI&quot;</td><td>&quot;VISION&quot;</td><td>0.0</td><td>0.0</td><td>0.0</td><td>1.0</td><td>&quot;ACTIVE&quot;</td><td>113</td><td>&quot;113 - HYPERTENSION (INCLUDES S…</td></tr></tbody></table></div>"
      ],
      "text/plain": [
       "shape: (5, 17)\n",
       "┌────────────┬────────────┬────────────┬────────┬───┬───────────┬──────────┬───────────┬───────────┐\n",
       "│ PRIMARY_PE ┆ MEMBER_ID  ┆ MEMBER_MON ┆ YEARMO ┆ … ┆ QTY_MM_VS ┆ MEM_STAT ┆ PRIMARY_C ┆ PRIMARY_C │\n",
       "│ RSON_KEY   ┆ ---        ┆ TH_START_D ┆ ---    ┆   ┆ ---       ┆ ---      ┆ HRONIC_CO ┆ HRONIC_CO │\n",
       "│ ---        ┆ str        ┆ ATE        ┆ str    ┆   ┆ f32       ┆ str      ┆ NDITION_R ┆ NDITION_R │\n",
       "│ str        ┆            ┆ ---        ┆        ┆   ┆           ┆          ┆ OLL…      ┆ OLL…      │\n",
       "│            ┆            ┆ date       ┆        ┆   ┆           ┆          ┆ ---       ┆ ---       │\n",
       "│            ┆            ┆            ┆        ┆   ┆           ┆          ┆ i32       ┆ str       │\n",
       "╞════════════╪════════════╪════════════╪════════╪═══╪═══════════╪══════════╪═══════════╪═══════════╡\n",
       "│ 1E9F89247B ┆ 1E9F89247B ┆ 2022-12-01 ┆ 202212 ┆ … ┆ 0.0       ┆ ACTIVE   ┆ 130       ┆ 130 -     │\n",
       "│ 2EA224292B ┆ 2EA224292B ┆            ┆        ┆   ┆           ┆          ┆           ┆ HEALTHY   │\n",
       "│ DA829      ┆ DA829      ┆            ┆        ┆   ┆           ┆          ┆           ┆ MALE      │\n",
       "│            ┆            ┆            ┆        ┆   ┆           ┆          ┆           ┆ (16-40)   │\n",
       "│ D1EF2D9813 ┆ D1EF2D9813 ┆ 2024-01-01 ┆ 202401 ┆ … ┆ 0.0       ┆ null     ┆ 131       ┆ 131 -     │\n",
       "│ 38A9E0576D ┆ 38A9E0576D ┆            ┆        ┆   ┆           ┆          ┆           ┆ HEALTHY   │\n",
       "│ 2B2B5      ┆ 2B2B5      ┆            ┆        ┆   ┆           ┆          ┆           ┆ MALE      │\n",
       "│            ┆            ┆            ┆        ┆   ┆           ┆          ┆           ┆ (41-64)   │\n",
       "│ 7965E84FF7 ┆ 7965E84FF7 ┆ 2024-06-01 ┆ 202406 ┆ … ┆ 0.0       ┆ null     ┆ 104       ┆ 104 -     │\n",
       "│ 29EE6EC7AF ┆ 29EE6EC7AF ┆            ┆        ┆   ┆           ┆          ┆           ┆ RENAL     │\n",
       "│ 3107F      ┆ 3107F      ┆            ┆        ┆   ┆           ┆          ┆           ┆ FAILURE   │\n",
       "│            ┆            ┆            ┆        ┆   ┆           ┆          ┆           ┆ AND/OR    │\n",
       "│            ┆            ┆            ┆        ┆   ┆           ┆          ┆           ┆ POS…      │\n",
       "│ D7A1B231B2 ┆ D7A1B231B2 ┆ 2022-09-01 ┆ 202209 ┆ … ┆ 0.0       ┆ ACTIVE   ┆ 138       ┆ 138 -     │\n",
       "│ 4EF5A687C5 ┆ 4EF5A687C5 ┆            ┆        ┆   ┆           ┆          ┆           ┆ HEALTHY   │\n",
       "│ 81085      ┆ 81085      ┆            ┆        ┆   ┆           ┆          ┆           ┆ FEMALE    │\n",
       "│            ┆            ┆            ┆        ┆   ┆           ┆          ┆           ┆ (16-40)   │\n",
       "│ 272B94FB4B ┆ 272B94FB4B ┆ 2024-06-01 ┆ 202406 ┆ … ┆ 1.0       ┆ ACTIVE   ┆ 113       ┆ 113 - HYP │\n",
       "│ 3A6D6C646B ┆ 3A6D6C646B ┆            ┆        ┆   ┆           ┆          ┆           ┆ ERTENSION │\n",
       "│ 91349      ┆ 91349      ┆            ┆        ┆   ┆           ┆          ┆           ┆ (INCLUDES │\n",
       "│            ┆            ┆            ┆        ┆   ┆           ┆          ┆           ┆ S…        │\n",
       "└────────────┴────────────┴────────────┴────────┴───┴───────────┴──────────┴───────────┴───────────┘"
      ]
     },
     "execution_count": 7,
     "metadata": {},
     "output_type": "execute_result"
    }
   ],
   "source": [
    "data_dict['enrollment'].head()"
   ]
  },
  {
   "cell_type": "code",
   "execution_count": 8,
   "metadata": {
    "execution": {
     "iopub.execute_input": "2024-12-08T01:12:07.462237Z",
     "iopub.status.busy": "2024-12-08T01:12:07.461826Z",
     "iopub.status.idle": "2024-12-08T01:12:07.543099Z",
     "shell.execute_reply": "2024-12-08T01:12:07.541674Z",
     "shell.execute_reply.started": "2024-12-08T01:12:07.462198Z"
    },
    "trusted": true
   },
   "outputs": [
    {
     "data": {
      "text/html": [
       "<div><style>\n",
       ".dataframe > thead > tr,\n",
       ".dataframe > tbody > tr {\n",
       "  text-align: right;\n",
       "  white-space: pre-wrap;\n",
       "}\n",
       "</style>\n",
       "<small>shape: (10, 2)</small><table border=\"1\" class=\"dataframe\"><thead><tr><th>variable</th><th>value</th></tr><tr><td>str</td><td>f64</td></tr></thead><tbody><tr><td>&quot;RELATION&quot;</td><td>0.406088</td></tr><tr><td>&quot;MEM_STAT&quot;</td><td>0.246006</td></tr><tr><td>&quot;PRIMARY_CHRONIC_CONDITION_ROLL…</td><td>0.019709</td></tr><tr><td>&quot;PRIMARY_CHRONIC_CONDITION_ROLL…</td><td>0.019709</td></tr><tr><td>&quot;MEM_AGE&quot;</td><td>0.003835</td></tr><tr><td>&quot;MEM_MSA_NAME&quot;</td><td>0.000167</td></tr><tr><td>&quot;PRIMARY_PERSON_KEY&quot;</td><td>0.0</td></tr><tr><td>&quot;MEMBER_ID&quot;</td><td>0.0</td></tr><tr><td>&quot;MEMBER_MONTH_START_DATE&quot;</td><td>0.0</td></tr><tr><td>&quot;YEARMO&quot;</td><td>0.0</td></tr></tbody></table></div>"
      ],
      "text/plain": [
       "shape: (10, 2)\n",
       "┌─────────────────────────────────┬──────────┐\n",
       "│ variable                        ┆ value    │\n",
       "│ ---                             ┆ ---      │\n",
       "│ str                             ┆ f64      │\n",
       "╞═════════════════════════════════╪══════════╡\n",
       "│ RELATION                        ┆ 0.406088 │\n",
       "│ MEM_STAT                        ┆ 0.246006 │\n",
       "│ PRIMARY_CHRONIC_CONDITION_ROLL… ┆ 0.019709 │\n",
       "│ PRIMARY_CHRONIC_CONDITION_ROLL… ┆ 0.019709 │\n",
       "│ MEM_AGE                         ┆ 0.003835 │\n",
       "│ MEM_MSA_NAME                    ┆ 0.000167 │\n",
       "│ PRIMARY_PERSON_KEY              ┆ 0.0      │\n",
       "│ MEMBER_ID                       ┆ 0.0      │\n",
       "│ MEMBER_MONTH_START_DATE         ┆ 0.0      │\n",
       "│ YEARMO                          ┆ 0.0      │\n",
       "└─────────────────────────────────┴──────────┘"
      ]
     },
     "execution_count": 8,
     "metadata": {},
     "output_type": "execute_result"
    }
   ],
   "source": [
    "enrollment_null = (data_dict['enrollment'].null_count() / data_dict['enrollment'].shape[0]).unpivot()\n",
    "enrollment_null.sort(by = pl.col('value'),descending = True)[:10]"
   ]
  },
  {
   "cell_type": "code",
   "execution_count": 9,
   "metadata": {
    "execution": {
     "iopub.execute_input": "2024-12-08T01:12:07.545374Z",
     "iopub.status.busy": "2024-12-08T01:12:07.544873Z",
     "iopub.status.idle": "2024-12-08T01:12:07.552305Z",
     "shell.execute_reply": "2024-12-08T01:12:07.550613Z",
     "shell.execute_reply.started": "2024-12-08T01:12:07.545333Z"
    },
    "trusted": true
   },
   "outputs": [],
   "source": [
    "filtered_enrollment = data_dict['enrollment'].select(['MEMBER_ID','MEM_AGE','PAYER_LOB','QTY_MM_MD','PRIMARY_CHRONIC_CONDITION_ROLLUP_DESC','PRIMARY_CHRONIC_CONDITION_ROLLUP_ID'])"
   ]
  },
  {
   "cell_type": "markdown",
   "metadata": {},
   "source": [
    "## Member"
   ]
  },
  {
   "cell_type": "code",
   "execution_count": 10,
   "metadata": {
    "execution": {
     "iopub.execute_input": "2024-12-08T01:12:07.554984Z",
     "iopub.status.busy": "2024-12-08T01:12:07.554469Z",
     "iopub.status.idle": "2024-12-08T01:12:07.573255Z",
     "shell.execute_reply": "2024-12-08T01:12:07.572143Z",
     "shell.execute_reply.started": "2024-12-08T01:12:07.554931Z"
    },
    "id": "h5nRP3AVX6oZ",
    "trusted": true
   },
   "outputs": [
    {
     "data": {
      "text/html": [
       "<div><style>\n",
       ".dataframe > thead > tr,\n",
       ".dataframe > tbody > tr {\n",
       "  text-align: right;\n",
       "  white-space: pre-wrap;\n",
       "}\n",
       "</style>\n",
       "<small>shape: (5, 8)</small><table border=\"1\" class=\"dataframe\"><thead><tr><th>PRIMARY_PERSON_KEY</th><th>MEMBER_ID</th><th>MEM_GENDER</th><th>MEM_RACE</th><th>MEM_ETHNICITY</th><th>MEM_ZIP3</th><th>MEM_MSA_NAME</th><th>MEM_STATE</th></tr><tr><td>str</td><td>str</td><td>str</td><td>str</td><td>str</td><td>str</td><td>str</td><td>str</td></tr></thead><tbody><tr><td>&quot;9731B1DE12C33F077C1735813&quot;</td><td>&quot;9731B1DE12C33F077C1735813&quot;</td><td>&quot;F&quot;</td><td>null</td><td>null</td><td>&quot;481&quot;</td><td>&quot;DETROIT-DEARBORN-LIVONIA, MI&quot;</td><td>&quot;MI&quot;</td></tr><tr><td>&quot;9747230E0A5222636D181EE17&quot;</td><td>&quot;9747230E0A5222636D181EE17&quot;</td><td>&quot;M&quot;</td><td>null</td><td>null</td><td>&quot;486&quot;</td><td>&quot;SAGINAW, MI&quot;</td><td>&quot;MI&quot;</td></tr><tr><td>&quot;9783BC6A6639A320678AEB1D7&quot;</td><td>&quot;9783BC6A6639A320678AEB1D7&quot;</td><td>&quot;F&quot;</td><td>null</td><td>null</td><td>&quot;967&quot;</td><td>&quot;NON-MSA AREA, HI&quot;</td><td>&quot;HI&quot;</td></tr><tr><td>&quot;97C47B1B1F0E23FB7379A5B18&quot;</td><td>&quot;97C47B1B1F0E23FB7379A5B18&quot;</td><td>&quot;M&quot;</td><td>null</td><td>null</td><td>&quot;967&quot;</td><td>&quot;URBAN HONOLULU, HI&quot;</td><td>&quot;HI&quot;</td></tr><tr><td>&quot;97CC11A701344E64DEA25DEA4&quot;</td><td>&quot;97CC11A701344E64DEA25DEA4&quot;</td><td>&quot;M&quot;</td><td>null</td><td>null</td><td>&quot;968&quot;</td><td>&quot;URBAN HONOLULU, HI&quot;</td><td>&quot;HI&quot;</td></tr></tbody></table></div>"
      ],
      "text/plain": [
       "shape: (5, 8)\n",
       "┌────────────┬────────────┬────────────┬──────────┬────────────┬──────────┬────────────┬───────────┐\n",
       "│ PRIMARY_PE ┆ MEMBER_ID  ┆ MEM_GENDER ┆ MEM_RACE ┆ MEM_ETHNIC ┆ MEM_ZIP3 ┆ MEM_MSA_NA ┆ MEM_STATE │\n",
       "│ RSON_KEY   ┆ ---        ┆ ---        ┆ ---      ┆ ITY        ┆ ---      ┆ ME         ┆ ---       │\n",
       "│ ---        ┆ str        ┆ str        ┆ str      ┆ ---        ┆ str      ┆ ---        ┆ str       │\n",
       "│ str        ┆            ┆            ┆          ┆ str        ┆          ┆ str        ┆           │\n",
       "╞════════════╪════════════╪════════════╪══════════╪════════════╪══════════╪════════════╪═══════════╡\n",
       "│ 9731B1DE12 ┆ 9731B1DE12 ┆ F          ┆ null     ┆ null       ┆ 481      ┆ DETROIT-DE ┆ MI        │\n",
       "│ C33F077C17 ┆ C33F077C17 ┆            ┆          ┆            ┆          ┆ ARBORN-LIV ┆           │\n",
       "│ 35813      ┆ 35813      ┆            ┆          ┆            ┆          ┆ ONIA, MI   ┆           │\n",
       "│ 9747230E0A ┆ 9747230E0A ┆ M          ┆ null     ┆ null       ┆ 486      ┆ SAGINAW,   ┆ MI        │\n",
       "│ 5222636D18 ┆ 5222636D18 ┆            ┆          ┆            ┆          ┆ MI         ┆           │\n",
       "│ 1EE17      ┆ 1EE17      ┆            ┆          ┆            ┆          ┆            ┆           │\n",
       "│ 9783BC6A66 ┆ 9783BC6A66 ┆ F          ┆ null     ┆ null       ┆ 967      ┆ NON-MSA    ┆ HI        │\n",
       "│ 39A320678A ┆ 39A320678A ┆            ┆          ┆            ┆          ┆ AREA, HI   ┆           │\n",
       "│ EB1D7      ┆ EB1D7      ┆            ┆          ┆            ┆          ┆            ┆           │\n",
       "│ 97C47B1B1F ┆ 97C47B1B1F ┆ M          ┆ null     ┆ null       ┆ 967      ┆ URBAN      ┆ HI        │\n",
       "│ 0E23FB7379 ┆ 0E23FB7379 ┆            ┆          ┆            ┆          ┆ HONOLULU,  ┆           │\n",
       "│ A5B18      ┆ A5B18      ┆            ┆          ┆            ┆          ┆ HI         ┆           │\n",
       "│ 97CC11A701 ┆ 97CC11A701 ┆ M          ┆ null     ┆ null       ┆ 968      ┆ URBAN      ┆ HI        │\n",
       "│ 344E64DEA2 ┆ 344E64DEA2 ┆            ┆          ┆            ┆          ┆ HONOLULU,  ┆           │\n",
       "│ 5DEA4      ┆ 5DEA4      ┆            ┆          ┆            ┆          ┆ HI         ┆           │\n",
       "└────────────┴────────────┴────────────┴──────────┴────────────┴──────────┴────────────┴───────────┘"
      ]
     },
     "execution_count": 10,
     "metadata": {},
     "output_type": "execute_result"
    }
   ],
   "source": [
    "data_dict['member'].head()"
   ]
  },
  {
   "cell_type": "code",
   "execution_count": 11,
   "metadata": {
    "execution": {
     "iopub.execute_input": "2024-12-08T01:12:07.578068Z",
     "iopub.status.busy": "2024-12-08T01:12:07.577705Z",
     "iopub.status.idle": "2024-12-08T01:12:07.592947Z",
     "shell.execute_reply": "2024-12-08T01:12:07.591642Z",
     "shell.execute_reply.started": "2024-12-08T01:12:07.578021Z"
    },
    "trusted": true
   },
   "outputs": [
    {
     "data": {
      "text/html": [
       "<div><style>\n",
       ".dataframe > thead > tr,\n",
       ".dataframe > tbody > tr {\n",
       "  text-align: right;\n",
       "  white-space: pre-wrap;\n",
       "}\n",
       "</style>\n",
       "<small>shape: (8, 2)</small><table border=\"1\" class=\"dataframe\"><thead><tr><th>variable</th><th>value</th></tr><tr><td>str</td><td>f64</td></tr></thead><tbody><tr><td>&quot;MEM_ETHNICITY&quot;</td><td>0.567693</td></tr><tr><td>&quot;MEM_RACE&quot;</td><td>0.526925</td></tr><tr><td>&quot;MEM_GENDER&quot;</td><td>0.009381</td></tr><tr><td>&quot;PRIMARY_PERSON_KEY&quot;</td><td>0.0</td></tr><tr><td>&quot;MEMBER_ID&quot;</td><td>0.0</td></tr><tr><td>&quot;MEM_ZIP3&quot;</td><td>0.0</td></tr><tr><td>&quot;MEM_MSA_NAME&quot;</td><td>0.0</td></tr><tr><td>&quot;MEM_STATE&quot;</td><td>0.0</td></tr></tbody></table></div>"
      ],
      "text/plain": [
       "shape: (8, 2)\n",
       "┌────────────────────┬──────────┐\n",
       "│ variable           ┆ value    │\n",
       "│ ---                ┆ ---      │\n",
       "│ str                ┆ f64      │\n",
       "╞════════════════════╪══════════╡\n",
       "│ MEM_ETHNICITY      ┆ 0.567693 │\n",
       "│ MEM_RACE           ┆ 0.526925 │\n",
       "│ MEM_GENDER         ┆ 0.009381 │\n",
       "│ PRIMARY_PERSON_KEY ┆ 0.0      │\n",
       "│ MEMBER_ID          ┆ 0.0      │\n",
       "│ MEM_ZIP3           ┆ 0.0      │\n",
       "│ MEM_MSA_NAME       ┆ 0.0      │\n",
       "│ MEM_STATE          ┆ 0.0      │\n",
       "└────────────────────┴──────────┘"
      ]
     },
     "execution_count": 11,
     "metadata": {},
     "output_type": "execute_result"
    }
   ],
   "source": [
    "member_null = (data_dict['member'].null_count() / data_dict['member'].shape[0]).unpivot()\n",
    "member_null.sort(by = pl.col('value'),descending = True)"
   ]
  },
  {
   "cell_type": "code",
   "execution_count": 12,
   "metadata": {
    "execution": {
     "iopub.execute_input": "2024-12-08T01:12:07.595081Z",
     "iopub.status.busy": "2024-12-08T01:12:07.594602Z",
     "iopub.status.idle": "2024-12-08T01:12:07.604162Z",
     "shell.execute_reply": "2024-12-08T01:12:07.603120Z",
     "shell.execute_reply.started": "2024-12-08T01:12:07.595005Z"
    },
    "trusted": true
   },
   "outputs": [],
   "source": [
    "filtered_member = data_dict['member'].select(['MEMBER_ID','MEM_GENDER','MEM_STATE'])"
   ]
  },
  {
   "cell_type": "markdown",
   "metadata": {},
   "source": [
    "## Services"
   ]
  },
  {
   "cell_type": "code",
   "execution_count": 13,
   "metadata": {
    "execution": {
     "iopub.execute_input": "2024-12-08T01:12:07.606607Z",
     "iopub.status.busy": "2024-12-08T01:12:07.606152Z",
     "iopub.status.idle": "2024-12-08T01:12:09.078352Z",
     "shell.execute_reply": "2024-12-08T01:12:09.076752Z",
     "shell.execute_reply.started": "2024-12-08T01:12:07.606560Z"
    },
    "trusted": true
   },
   "outputs": [
    {
     "data": {
      "text/html": [
       "<div><style>\n",
       ".dataframe > thead > tr,\n",
       ".dataframe > tbody > tr {\n",
       "  text-align: right;\n",
       "  white-space: pre-wrap;\n",
       "}\n",
       "</style>\n",
       "<small>shape: (5, 148)</small><table border=\"1\" class=\"dataframe\"><thead><tr><th>PRIMARY_PERSON_KEY</th><th>MEMBER_ID</th><th>CLAIM_ID_KEY</th><th>SERVICE_LINE</th><th>SV_STAT</th><th>BILL_PROV_KEY</th><th>REF_PROV_KEY</th><th>ATT_PROV_KEY</th><th>YEARMO</th><th>FROM_DATE</th><th>TO_DATE</th><th>PAID_DATE</th><th>ADM_DATE</th><th>DIS_DATE</th><th>AGE_ON_DOS</th><th>RELATION</th><th>PAYER_LOB</th><th>PAYER_TYPE</th><th>MEM_STAT</th><th>CLAIM_IN_NETWORK</th><th>SERVICE_SETTING</th><th>FORM_TYPE</th><th>UB_BILL_TYPE</th><th>POS</th><th>MS_DRG</th><th>REV_CODE</th><th>PROC_CODE</th><th>CPT_MOD_1</th><th>CPT_MOD_2</th><th>CPT_CCS</th><th>CPT_CCS_LABEL</th><th>ADM_SRC</th><th>ADM_TYPE</th><th>DIS_STAT</th><th>ICD_DIAG_ADMIT</th><th>ICD_DIAG_01</th><th>ICD_DIAG_02</th><th>&hellip;</th><th>ICD_PROC_CODE_17</th><th>ICD_PROC_CODE_18</th><th>ICD_PROC_CODE_19</th><th>ICD_PROC_CODE_20</th><th>ICD_PROC_CODE_21</th><th>ICD_PROC_CODE_22</th><th>ICD_PROC_CODE_23</th><th>ICD_PROC_CODE_24</th><th>ICD_PROC_CODE_25</th><th>ICD_PROC_CODE_26</th><th>ICD_PROC_CODE_27</th><th>ICD_PROC_CODE_28</th><th>ICD_PROC_CODE_29</th><th>ICD_PROC_CODE_30</th><th>DIAG_CCS_1_LABEL</th><th>DIAG_CCS_2_LABEL</th><th>DIAG_CCS_3_LABEL</th><th>NDC_CODE</th><th>RX_DAYS_SUPPLY</th><th>RX_REFILLS</th><th>RX_FILL_SRC</th><th>RX_DRUG_COST</th><th>RX_INGR_COST</th><th>RX_QTY_DISPENSED</th><th>RX_DISP_FEE</th><th>RX_FORM</th><th>AMT_BILLED</th><th>AMT_ALLOWED</th><th>AMT_COB</th><th>AMT_COPAY</th><th>AMT_DEDUCT</th><th>AMT_COINS</th><th>AMT_PAID</th><th>AMT_DISALLOWED</th><th>SV_UNITS</th><th>DIAGNOSTIC_CONDITION_CATEGORY_ID</th><th>DIAGNOSTIC_CONDITION_CATEGORY_DESC</th></tr><tr><td>str</td><td>str</td><td>decimal[38,0]</td><td>i32</td><td>str</td><td>str</td><td>str</td><td>str</td><td>str</td><td>date</td><td>date</td><td>date</td><td>date</td><td>date</td><td>str</td><td>str</td><td>str</td><td>str</td><td>str</td><td>str</td><td>str</td><td>str</td><td>str</td><td>str</td><td>str</td><td>str</td><td>str</td><td>str</td><td>str</td><td>str</td><td>str</td><td>str</td><td>str</td><td>str</td><td>str</td><td>str</td><td>str</td><td>&hellip;</td><td>str</td><td>str</td><td>str</td><td>str</td><td>str</td><td>str</td><td>str</td><td>str</td><td>str</td><td>str</td><td>str</td><td>str</td><td>str</td><td>str</td><td>str</td><td>str</td><td>str</td><td>str</td><td>f32</td><td>i16</td><td>str</td><td>f32</td><td>f32</td><td>decimal[18,2]</td><td>decimal[18,2]</td><td>i32</td><td>f64</td><td>f64</td><td>f64</td><td>f64</td><td>f64</td><td>f64</td><td>f64</td><td>f64</td><td>decimal[12,2]</td><td>str</td><td>str</td></tr></thead><tbody><tr><td>&quot;1EBF6146B871B3576444B506F&quot;</td><td>&quot;1EBF6146B871B3576444B506F&quot;</td><td>3048793979</td><td>5</td><td>&quot;P&quot;</td><td>&quot;64F89D5EE97337669EF772765&quot;</td><td>&quot;081B37F0DD10CA9236269618F&quot;</td><td>&quot;64F89D5EE97337669EF772765&quot;</td><td>&quot;202212&quot;</td><td>2022-12-11</td><td>2022-12-13</td><td>2022-12-25</td><td>2022-12-11</td><td>2022-12-13</td><td>&quot;23&quot;</td><td>&quot;SUBSCRIBER&quot;</td><td>&quot;COMMERCIAL&quot;</td><td>&quot;HMO&quot;</td><td>null</td><td>null</td><td>&quot;INPATIENT&quot;</td><td>&quot;U&quot;</td><td>&quot;111&quot;</td><td>&quot;21&quot;</td><td>&quot;833&quot;</td><td>&quot;0259&quot;</td><td>null</td><td>null</td><td>null</td><td>&quot;000&quot;</td><td>null</td><td>&quot;1&quot;</td><td>&quot;3&quot;</td><td>&quot;01&quot;</td><td>null</td><td>&quot;O34211&quot;</td><td>null</td><td>&hellip;</td><td>null</td><td>null</td><td>null</td><td>null</td><td>null</td><td>null</td><td>null</td><td>null</td><td>null</td><td>null</td><td>null</td><td>null</td><td>null</td><td>null</td><td>&quot;COMPLICATIONS OF PREGNANCY; CH…</td><td>&quot;INDICATIONS FOR CARE IN PREGNA…</td><td>&quot;PREVIOUS C-SECTION&quot;</td><td>null</td><td>0.0</td><td>0</td><td>null</td><td>0.0</td><td>0.0</td><td>null</td><td>0.00</td><td>null</td><td>88.221759</td><td>40.963532</td><td>0.0</td><td>0.0</td><td>0.0</td><td>0.0</td><td>40.346337</td><td>0.0</td><td>11.00</td><td>&quot;99&quot;</td><td>&quot;NOT MAPPED&quot;</td></tr><tr><td>&quot;E90A7C9FBFF4C20B9874C3C6F&quot;</td><td>&quot;E90A7C9FBFF4C20B9874C3C6F&quot;</td><td>4412694618680315379801</td><td>9</td><td>&quot;P&quot;</td><td>&quot;A608F5BBCC48E545AA1355D8D&quot;</td><td>&quot;9A2BD1B749839687B7C6CE5A0&quot;</td><td>&quot;A608F5BBCC48E545AA1355D8D&quot;</td><td>&quot;202211&quot;</td><td>2022-11-24</td><td>2022-11-27</td><td>2022-12-17</td><td>2022-11-24</td><td>2022-11-27</td><td>&quot;38&quot;</td><td>&quot;UNKNOWN&quot;</td><td>&quot;MEDICAID&quot;</td><td>&quot;ME&quot;</td><td>&quot;ACTIVE&quot;</td><td>&quot;Y&quot;</td><td>&quot;INPATIENT&quot;</td><td>&quot;U&quot;</td><td>&quot;111&quot;</td><td>null</td><td>&quot;331&quot;</td><td>&quot;0302&quot;</td><td>null</td><td>null</td><td>null</td><td>&quot;000&quot;</td><td>null</td><td>&quot;2&quot;</td><td>&quot;3&quot;</td><td>&quot;01&quot;</td><td>&quot;K5780&quot;</td><td>&quot;K5720&quot;</td><td>&quot;I10&quot;</td><td>&hellip;</td><td>null</td><td>null</td><td>null</td><td>null</td><td>null</td><td>null</td><td>null</td><td>null</td><td>null</td><td>null</td><td>null</td><td>null</td><td>null</td><td>null</td><td>&quot;DISEASES OF THE DIGESTIVE SYST…</td><td>&quot;LOWER GASTROINTESTINAL DISORDE…</td><td>&quot;DIVERTICULOSIS AND DIVERTICULI…</td><td>null</td><td>0.0</td><td>0</td><td>null</td><td>0.0</td><td>0.0</td><td>null</td><td>0.00</td><td>0</td><td>35.950289</td><td>0.0</td><td>0.0</td><td>0.0</td><td>0.0</td><td>0.0</td><td>0.0</td><td>36.614476</td><td>1.00</td><td>&quot;39&quot;</td><td>&quot;HTN (HYPERTENSION)&quot;</td></tr><tr><td>&quot;7E63F42473496156D95072ADE&quot;</td><td>&quot;7E63F42473496156D95072ADE&quot;</td><td>3915323710169832784660</td><td>6</td><td>&quot;P&quot;</td><td>&quot;DE7D09C130D00580FA39B70EF&quot;</td><td>&quot;6C09EF937D212BB50A6A024F7&quot;</td><td>&quot;DE7D09C130D00580FA39B70EF&quot;</td><td>&quot;202210&quot;</td><td>2022-10-01</td><td>2022-10-05</td><td>2024-02-02</td><td>2022-10-01</td><td>2022-10-05</td><td>&quot;35&quot;</td><td>&quot;UNKNOWN&quot;</td><td>&quot;MEDICAID&quot;</td><td>&quot;MD&quot;</td><td>&quot;ACTIVE&quot;</td><td>&quot;Y&quot;</td><td>&quot;INPATIENT&quot;</td><td>&quot;U&quot;</td><td>&quot;111&quot;</td><td>null</td><td>&quot;637&quot;</td><td>&quot;0350&quot;</td><td>null</td><td>null</td><td>null</td><td>&quot;000&quot;</td><td>null</td><td>&quot;1&quot;</td><td>&quot;1&quot;</td><td>&quot;07&quot;</td><td>&quot;E1011&quot;</td><td>&quot;E1011&quot;</td><td>&quot;N170&quot;</td><td>&hellip;</td><td>null</td><td>null</td><td>null</td><td>null</td><td>null</td><td>null</td><td>null</td><td>null</td><td>null</td><td>null</td><td>null</td><td>null</td><td>null</td><td>null</td><td>&quot;ENDOCRINE; NUTRITIONAL; AND ME…</td><td>&quot;DIABETES MELLITUS WITH COMPLIC…</td><td>&quot;DIABETES MELLITUS WITH COMPLIC…</td><td>null</td><td>0.0</td><td>0</td><td>null</td><td>0.0</td><td>0.0</td><td>null</td><td>0.00</td><td>0</td><td>12952.566179</td><td>0.0</td><td>0.0</td><td>0.0</td><td>0.0</td><td>0.0</td><td>0.0</td><td>12930.883682</td><td>4.00</td><td>&quot;16&quot;</td><td>&quot;SUBSTANCE ABUSE&quot;</td></tr><tr><td>&quot;A7FF4B7843090D39AC12913E9&quot;</td><td>&quot;A7FF4B7843090D39AC12913E9&quot;</td><td>487522458</td><td>14</td><td>&quot;P&quot;</td><td>&quot;B68D0B37CDF41FEEB05796492&quot;</td><td>&quot;635145536A5957762AB18E4C5&quot;</td><td>&quot;B68D0B37CDF41FEEB05796492&quot;</td><td>&quot;202212&quot;</td><td>2022-12-12</td><td>2022-12-19</td><td>2023-05-14</td><td>2022-12-12</td><td>2022-12-19</td><td>&quot;56&quot;</td><td>&quot;SUBSCRIBER&quot;</td><td>&quot;COMMERCIAL&quot;</td><td>&quot;PPO&quot;</td><td>&quot;ACTIVE&quot;</td><td>null</td><td>&quot;INPATIENT&quot;</td><td>&quot;U&quot;</td><td>null</td><td>null</td><td>&quot;098&quot;</td><td>&quot;0343&quot;</td><td>null</td><td>null</td><td>null</td><td>&quot;000&quot;</td><td>null</td><td>null</td><td>null</td><td>null</td><td>null</td><td>&quot;G0481&quot;</td><td>&quot;Z79899&quot;</td><td>&hellip;</td><td>null</td><td>null</td><td>null</td><td>null</td><td>null</td><td>null</td><td>null</td><td>null</td><td>null</td><td>null</td><td>null</td><td>null</td><td>null</td><td>null</td><td>&quot;DISEASES OF THE NERVOUS SYSTEM…</td><td>&quot;CENTRAL NERVOUS SYSTEM INFECTI…</td><td>&quot;ENCEPHALITIS (EXCEPT THAT CAUS…</td><td>null</td><td>0.0</td><td>0</td><td>null</td><td>0.0</td><td>0.0</td><td>null</td><td>0.00</td><td>null</td><td>1098.914305</td><td>0.0</td><td>0.0</td><td>0.0</td><td>0.0</td><td>0.0</td><td>0.0</td><td>0.0</td><td>1.00</td><td>&quot;16&quot;</td><td>&quot;SUBSTANCE ABUSE&quot;</td></tr><tr><td>&quot;3F52A6AB0740CE41BD220E289&quot;</td><td>&quot;3F52A6AB0740CE41BD220E289&quot;</td><td>70313409627387088949804</td><td>17</td><td>&quot;P&quot;</td><td>&quot;A3111E7E2866F8D4281EE30CA&quot;</td><td>&quot;F4EA79AB5FFB7B427731C62B9&quot;</td><td>&quot;A3111E7E2866F8D4281EE30CA&quot;</td><td>&quot;202210&quot;</td><td>2022-10-08</td><td>2022-10-08</td><td>2022-12-26</td><td>2022-10-08</td><td>2022-10-17</td><td>&quot;81&quot;</td><td>&quot;SPOUSE&quot;</td><td>&quot;MEDICARE SUPPLEMENT&quot;</td><td>&quot;MS&quot;</td><td>&quot;&quot;</td><td>&quot;N&quot;</td><td>&quot;INPATIENT&quot;</td><td>&quot;U&quot;</td><td>&quot;111&quot;</td><td>&quot;21&quot;</td><td>&quot;186&quot;</td><td>&quot;0300&quot;</td><td>null</td><td>null</td><td>null</td><td>&quot;000&quot;</td><td>null</td><td>null</td><td>null</td><td>&quot;06&quot;</td><td>&quot;J942&quot;</td><td>&quot;J942&quot;</td><td>&quot;D6832&quot;</td><td>&hellip;</td><td>null</td><td>null</td><td>null</td><td>null</td><td>null</td><td>null</td><td>null</td><td>null</td><td>null</td><td>null</td><td>null</td><td>null</td><td>null</td><td>null</td><td>&quot;DISEASES OF THE RESPIRATORY SY…</td><td>&quot;PLEURISY; PNEUMOTHORAX; PULMON…</td><td>&quot;PLEURISY; PNEUMOTHORAX; PULMON…</td><td>null</td><td>0.0</td><td>0</td><td>null</td><td>0.0</td><td>0.0</td><td>null</td><td>0.00</td><td>0</td><td>607.998155</td><td>0.0</td><td>0.0</td><td>0.0</td><td>0.0</td><td>0.0</td><td>0.0</td><td>0.0</td><td>7.00</td><td>&quot;29&quot;</td><td>&quot;HEMOPHILIA &amp; SICKLE CELL &amp; OTH…</td></tr></tbody></table></div>"
      ],
      "text/plain": [
       "shape: (5, 148)\n",
       "┌───────────┬───────────┬───────────┬───────────┬───┬───────────┬───────────┬───────────┬──────────┐\n",
       "│ PRIMARY_P ┆ MEMBER_ID ┆ CLAIM_ID_ ┆ SERVICE_L ┆ … ┆ AMT_DISAL ┆ SV_UNITS  ┆ DIAGNOSTI ┆ DIAGNOST │\n",
       "│ ERSON_KEY ┆ ---       ┆ KEY       ┆ INE       ┆   ┆ LOWED     ┆ ---       ┆ C_CONDITI ┆ IC_CONDI │\n",
       "│ ---       ┆ str       ┆ ---       ┆ ---       ┆   ┆ ---       ┆ decimal[1 ┆ ON_CATEGO ┆ TION_CAT │\n",
       "│ str       ┆           ┆ decimal[3 ┆ i32       ┆   ┆ f64       ┆ 2,2]      ┆ RY_…      ┆ EGORY_…  │\n",
       "│           ┆           ┆ 8,0]      ┆           ┆   ┆           ┆           ┆ ---       ┆ ---      │\n",
       "│           ┆           ┆           ┆           ┆   ┆           ┆           ┆ str       ┆ str      │\n",
       "╞═══════════╪═══════════╪═══════════╪═══════════╪═══╪═══════════╪═══════════╪═══════════╪══════════╡\n",
       "│ 1EBF6146B ┆ 1EBF6146B ┆ 304879397 ┆ 5         ┆ … ┆ 0.0       ┆ 11.00     ┆ 99        ┆ NOT      │\n",
       "│ 871B35764 ┆ 871B35764 ┆ 9         ┆           ┆   ┆           ┆           ┆           ┆ MAPPED   │\n",
       "│ 44B506F   ┆ 44B506F   ┆           ┆           ┆   ┆           ┆           ┆           ┆          │\n",
       "│ E90A7C9FB ┆ E90A7C9FB ┆ 441269461 ┆ 9         ┆ … ┆ 36.614476 ┆ 1.00      ┆ 39        ┆ HTN (HYP │\n",
       "│ FF4C20B98 ┆ FF4C20B98 ┆ 868031537 ┆           ┆   ┆           ┆           ┆           ┆ ERTENSIO │\n",
       "│ 74C3C6F   ┆ 74C3C6F   ┆ 9801      ┆           ┆   ┆           ┆           ┆           ┆ N)       │\n",
       "│ 7E63F4247 ┆ 7E63F4247 ┆ 391532371 ┆ 6         ┆ … ┆ 12930.883 ┆ 4.00      ┆ 16        ┆ SUBSTANC │\n",
       "│ 3496156D9 ┆ 3496156D9 ┆ 016983278 ┆           ┆   ┆ 682       ┆           ┆           ┆ E ABUSE  │\n",
       "│ 5072ADE   ┆ 5072ADE   ┆ 4660      ┆           ┆   ┆           ┆           ┆           ┆          │\n",
       "│ A7FF4B784 ┆ A7FF4B784 ┆ 487522458 ┆ 14        ┆ … ┆ 0.0       ┆ 1.00      ┆ 16        ┆ SUBSTANC │\n",
       "│ 3090D39AC ┆ 3090D39AC ┆           ┆           ┆   ┆           ┆           ┆           ┆ E ABUSE  │\n",
       "│ 12913E9   ┆ 12913E9   ┆           ┆           ┆   ┆           ┆           ┆           ┆          │\n",
       "│ 3F52A6AB0 ┆ 3F52A6AB0 ┆ 703134096 ┆ 17        ┆ … ┆ 0.0       ┆ 7.00      ┆ 29        ┆ HEMOPHIL │\n",
       "│ 740CE41BD ┆ 740CE41BD ┆ 273870889 ┆           ┆   ┆           ┆           ┆           ┆ IA &     │\n",
       "│ 220E289   ┆ 220E289   ┆ 49804     ┆           ┆   ┆           ┆           ┆           ┆ SICKLE   │\n",
       "│           ┆           ┆           ┆           ┆   ┆           ┆           ┆           ┆ CELL &   │\n",
       "│           ┆           ┆           ┆           ┆   ┆           ┆           ┆           ┆ OTH…     │\n",
       "└───────────┴───────────┴───────────┴───────────┴───┴───────────┴───────────┴───────────┴──────────┘"
      ]
     },
     "execution_count": 13,
     "metadata": {},
     "output_type": "execute_result"
    }
   ],
   "source": [
    "filtered_services = data_dict['services'].filter(pl.col('SERVICE_SETTING') == 'INPATIENT')\n",
    "filtered_services.head()"
   ]
  },
  {
   "cell_type": "code",
   "execution_count": 14,
   "metadata": {
    "execution": {
     "iopub.execute_input": "2024-12-08T01:12:09.080214Z",
     "iopub.status.busy": "2024-12-08T01:12:09.079766Z",
     "iopub.status.idle": "2024-12-08T01:12:09.111001Z",
     "shell.execute_reply": "2024-12-08T01:12:09.109406Z",
     "shell.execute_reply.started": "2024-12-08T01:12:09.080174Z"
    },
    "trusted": true
   },
   "outputs": [],
   "source": [
    "filtered_services = filtered_services.with_columns(\n",
    "    ((pl.col(\"DIS_DATE\") - pl.col(\"ADM_DATE\")).cast(pl.Int64) / 86_400_000).alias(\"LOS\")\n",
    ")"
   ]
  },
  {
   "cell_type": "code",
   "execution_count": 15,
   "metadata": {
    "execution": {
     "iopub.execute_input": "2024-12-08T01:12:09.113024Z",
     "iopub.status.busy": "2024-12-08T01:12:09.112569Z",
     "iopub.status.idle": "2024-12-08T01:12:09.127376Z",
     "shell.execute_reply": "2024-12-08T01:12:09.126237Z",
     "shell.execute_reply.started": "2024-12-08T01:12:09.112984Z"
    },
    "trusted": true
   },
   "outputs": [
    {
     "data": {
      "text/html": [
       "<div><style>\n",
       ".dataframe > thead > tr,\n",
       ".dataframe > tbody > tr {\n",
       "  text-align: right;\n",
       "  white-space: pre-wrap;\n",
       "}\n",
       "</style>\n",
       "<small>shape: (5, 9)</small><table border=\"1\" class=\"dataframe\"><thead><tr><th>MEMBER_ID</th><th>DIAG_CCS_1_LABEL</th><th>MS_DRG</th><th>LOS</th><th>DIAG_CCS_2_LABEL</th><th>ADM_SRC</th><th>ADM_TYPE</th><th>DIS_STAT</th><th>MEM_STAT</th></tr><tr><td>str</td><td>str</td><td>str</td><td>f64</td><td>str</td><td>str</td><td>str</td><td>str</td><td>str</td></tr></thead><tbody><tr><td>&quot;1EBF6146B871B3576444B506F&quot;</td><td>&quot;COMPLICATIONS OF PREGNANCY; CH…</td><td>&quot;833&quot;</td><td>2.0</td><td>&quot;INDICATIONS FOR CARE IN PREGNA…</td><td>&quot;1&quot;</td><td>&quot;3&quot;</td><td>&quot;01&quot;</td><td>null</td></tr><tr><td>&quot;E90A7C9FBFF4C20B9874C3C6F&quot;</td><td>&quot;DISEASES OF THE DIGESTIVE SYST…</td><td>&quot;331&quot;</td><td>3.0</td><td>&quot;LOWER GASTROINTESTINAL DISORDE…</td><td>&quot;2&quot;</td><td>&quot;3&quot;</td><td>&quot;01&quot;</td><td>&quot;ACTIVE&quot;</td></tr><tr><td>&quot;7E63F42473496156D95072ADE&quot;</td><td>&quot;ENDOCRINE; NUTRITIONAL; AND ME…</td><td>&quot;637&quot;</td><td>4.0</td><td>&quot;DIABETES MELLITUS WITH COMPLIC…</td><td>&quot;1&quot;</td><td>&quot;1&quot;</td><td>&quot;07&quot;</td><td>&quot;ACTIVE&quot;</td></tr><tr><td>&quot;A7FF4B7843090D39AC12913E9&quot;</td><td>&quot;DISEASES OF THE NERVOUS SYSTEM…</td><td>&quot;098&quot;</td><td>7.0</td><td>&quot;CENTRAL NERVOUS SYSTEM INFECTI…</td><td>null</td><td>null</td><td>null</td><td>&quot;ACTIVE&quot;</td></tr><tr><td>&quot;3F52A6AB0740CE41BD220E289&quot;</td><td>&quot;DISEASES OF THE RESPIRATORY SY…</td><td>&quot;186&quot;</td><td>9.0</td><td>&quot;PLEURISY; PNEUMOTHORAX; PULMON…</td><td>null</td><td>null</td><td>&quot;06&quot;</td><td>&quot;&quot;</td></tr></tbody></table></div>"
      ],
      "text/plain": [
       "shape: (5, 9)\n",
       "┌──────────────────┬─────────────────┬────────┬─────┬───┬─────────┬──────────┬──────────┬──────────┐\n",
       "│ MEMBER_ID        ┆ DIAG_CCS_1_LABE ┆ MS_DRG ┆ LOS ┆ … ┆ ADM_SRC ┆ ADM_TYPE ┆ DIS_STAT ┆ MEM_STAT │\n",
       "│ ---              ┆ L               ┆ ---    ┆ --- ┆   ┆ ---     ┆ ---      ┆ ---      ┆ ---      │\n",
       "│ str              ┆ ---             ┆ str    ┆ f64 ┆   ┆ str     ┆ str      ┆ str      ┆ str      │\n",
       "│                  ┆ str             ┆        ┆     ┆   ┆         ┆          ┆          ┆          │\n",
       "╞══════════════════╪═════════════════╪════════╪═════╪═══╪═════════╪══════════╪══════════╪══════════╡\n",
       "│ 1EBF6146B871B357 ┆ COMPLICATIONS   ┆ 833    ┆ 2.0 ┆ … ┆ 1       ┆ 3        ┆ 01       ┆ null     │\n",
       "│ 6444B506F        ┆ OF PREGNANCY;   ┆        ┆     ┆   ┆         ┆          ┆          ┆          │\n",
       "│                  ┆ CH…             ┆        ┆     ┆   ┆         ┆          ┆          ┆          │\n",
       "│ E90A7C9FBFF4C20B ┆ DISEASES OF THE ┆ 331    ┆ 3.0 ┆ … ┆ 2       ┆ 3        ┆ 01       ┆ ACTIVE   │\n",
       "│ 9874C3C6F        ┆ DIGESTIVE SYST… ┆        ┆     ┆   ┆         ┆          ┆          ┆          │\n",
       "│ 7E63F42473496156 ┆ ENDOCRINE;      ┆ 637    ┆ 4.0 ┆ … ┆ 1       ┆ 1        ┆ 07       ┆ ACTIVE   │\n",
       "│ D95072ADE        ┆ NUTRITIONAL;    ┆        ┆     ┆   ┆         ┆          ┆          ┆          │\n",
       "│                  ┆ AND ME…         ┆        ┆     ┆   ┆         ┆          ┆          ┆          │\n",
       "│ A7FF4B7843090D39 ┆ DISEASES OF THE ┆ 098    ┆ 7.0 ┆ … ┆ null    ┆ null     ┆ null     ┆ ACTIVE   │\n",
       "│ AC12913E9        ┆ NERVOUS SYSTEM… ┆        ┆     ┆   ┆         ┆          ┆          ┆          │\n",
       "│ 3F52A6AB0740CE41 ┆ DISEASES OF THE ┆ 186    ┆ 9.0 ┆ … ┆ null    ┆ null     ┆ 06       ┆          │\n",
       "│ BD220E289        ┆ RESPIRATORY SY… ┆        ┆     ┆   ┆         ┆          ┆          ┆          │\n",
       "└──────────────────┴─────────────────┴────────┴─────┴───┴─────────┴──────────┴──────────┴──────────┘"
      ]
     },
     "execution_count": 15,
     "metadata": {},
     "output_type": "execute_result"
    }
   ],
   "source": [
    "filtered_services = filtered_services.select([\n",
    "    'MEMBER_ID','DIAG_CCS_1_LABEL','MS_DRG','AGE_ON_DOS'\n",
    "    'LOS','DIAG_CCS_2_LABEL','ADM_SRC',\n",
    "    'ADM_TYPE','DIS_STAT','MEM_STAT'\n",
    "])\n",
    "\n",
    "filtered_services.head()"
   ]
  },
  {
   "cell_type": "code",
   "execution_count": 16,
   "metadata": {
    "execution": {
     "iopub.execute_input": "2024-12-08T01:12:09.129023Z",
     "iopub.status.busy": "2024-12-08T01:12:09.128686Z",
     "iopub.status.idle": "2024-12-08T01:12:09.152710Z",
     "shell.execute_reply": "2024-12-08T01:12:09.151426Z",
     "shell.execute_reply.started": "2024-12-08T01:12:09.128980Z"
    },
    "trusted": true
   },
   "outputs": [
    {
     "data": {
      "text/html": [
       "<div><style>\n",
       ".dataframe > thead > tr,\n",
       ".dataframe > tbody > tr {\n",
       "  text-align: right;\n",
       "  white-space: pre-wrap;\n",
       "}\n",
       "</style>\n",
       "<small>shape: (6, 2)</small><table border=\"1\" class=\"dataframe\"><thead><tr><th>variable</th><th>value</th></tr><tr><td>str</td><td>f64</td></tr></thead><tbody><tr><td>&quot;DIAG_CCS_1_LABEL&quot;</td><td>0.088967</td></tr><tr><td>&quot;DIAG_CCS_2_LABEL&quot;</td><td>0.088967</td></tr><tr><td>&quot;ADM_SRC&quot;</td><td>0.356085</td></tr><tr><td>&quot;ADM_TYPE&quot;</td><td>0.345633</td></tr><tr><td>&quot;DIS_STAT&quot;</td><td>0.167857</td></tr><tr><td>&quot;MEM_STAT&quot;</td><td>0.153984</td></tr></tbody></table></div>"
      ],
      "text/plain": [
       "shape: (6, 2)\n",
       "┌──────────────────┬──────────┐\n",
       "│ variable         ┆ value    │\n",
       "│ ---              ┆ ---      │\n",
       "│ str              ┆ f64      │\n",
       "╞══════════════════╪══════════╡\n",
       "│ DIAG_CCS_1_LABEL ┆ 0.088967 │\n",
       "│ DIAG_CCS_2_LABEL ┆ 0.088967 │\n",
       "│ ADM_SRC          ┆ 0.356085 │\n",
       "│ ADM_TYPE         ┆ 0.345633 │\n",
       "│ DIS_STAT         ┆ 0.167857 │\n",
       "│ MEM_STAT         ┆ 0.153984 │\n",
       "└──────────────────┴──────────┘"
      ]
     },
     "execution_count": 16,
     "metadata": {},
     "output_type": "execute_result"
    }
   ],
   "source": [
    "service_null = (filtered_services.null_count() / filtered_services.shape[0]).unpivot()\n",
    "service_null.filter(pl.col('value') > 0)"
   ]
  },
  {
   "cell_type": "markdown",
   "metadata": {},
   "source": [
    "## "
   ]
  },
  {
   "cell_type": "markdown",
   "metadata": {},
   "source": [
    "## Join dataset"
   ]
  },
  {
   "cell_type": "code",
   "execution_count": 17,
   "metadata": {
    "execution": {
     "iopub.execute_input": "2024-12-08T01:12:09.154591Z",
     "iopub.status.busy": "2024-12-08T01:12:09.154215Z",
     "iopub.status.idle": "2024-12-08T01:12:22.717081Z",
     "shell.execute_reply": "2024-12-08T01:12:22.715802Z",
     "shell.execute_reply.started": "2024-12-08T01:12:09.154557Z"
    },
    "trusted": true
   },
   "outputs": [],
   "source": [
    "join_df = filtered_member.join(filtered_enrollment,'MEMBER_ID', how = 'inner')\n",
    "join_df = join_df.join(filtered_services,'MEMBER_ID', how = 'inner')"
   ]
  },
  {
   "cell_type": "code",
   "execution_count": 18,
   "metadata": {
    "execution": {
     "iopub.execute_input": "2024-12-08T01:12:22.718857Z",
     "iopub.status.busy": "2024-12-08T01:12:22.718489Z",
     "iopub.status.idle": "2024-12-08T01:12:31.318891Z",
     "shell.execute_reply": "2024-12-08T01:12:31.317663Z",
     "shell.execute_reply.started": "2024-12-08T01:12:22.718813Z"
    },
    "trusted": true
   },
   "outputs": [],
   "source": [
    "join_df.write_parquet('join_df.parquet')"
   ]
  },
  {
   "cell_type": "code",
   "execution_count": 3,
   "metadata": {
    "execution": {
     "iopub.execute_input": "2024-12-08T01:18:26.443638Z",
     "iopub.status.busy": "2024-12-08T01:18:26.443149Z",
     "iopub.status.idle": "2024-12-08T01:18:33.794488Z",
     "shell.execute_reply": "2024-12-08T01:18:33.793340Z",
     "shell.execute_reply.started": "2024-12-08T01:18:26.443597Z"
    },
    "trusted": true
   },
   "outputs": [
    {
     "data": {
      "text/html": [
       "<div><style>\n",
       ".dataframe > thead > tr,\n",
       ".dataframe > tbody > tr {\n",
       "  text-align: right;\n",
       "  white-space: pre-wrap;\n",
       "}\n",
       "</style>\n",
       "<small>shape: (5, 16)</small><table border=\"1\" class=\"dataframe\"><thead><tr><th>MEMBER_ID</th><th>MEM_GENDER</th><th>MEM_STATE</th><th>MEM_AGE</th><th>PAYER_LOB</th><th>QTY_MM_MD</th><th>PRIMARY_CHRONIC_CONDITION_ROLLUP_DESC</th><th>PRIMARY_CHRONIC_CONDITION_ROLLUP_ID</th><th>DIAG_CCS_1_LABEL</th><th>MS_DRG</th><th>LOS</th><th>DIAG_CCS_2_LABEL</th><th>ADM_SRC</th><th>ADM_TYPE</th><th>DIS_STAT</th><th>MEM_STAT</th></tr><tr><td>str</td><td>str</td><td>str</td><td>i32</td><td>str</td><td>f32</td><td>str</td><td>i32</td><td>str</td><td>str</td><td>f64</td><td>str</td><td>str</td><td>i32</td><td>i32</td><td>str</td></tr></thead><tbody><tr><td>&quot;7965E84FF729EE6EC7AF3107F&quot;</td><td>&quot;M&quot;</td><td>&quot;MI&quot;</td><td>72</td><td>&quot;MEDICARE SUPPLEMENT&quot;</td><td>0.0</td><td>&quot;104 - RENAL FAILURE AND/OR POS…</td><td>104</td><td>&quot;INJURY AND POISONING&quot;</td><td>&quot;917&quot;</td><td>4.0</td><td>&quot;POISONING&quot;</td><td>null</td><td>null</td><td>1</td><td>null</td></tr><tr><td>&quot;7965E84FF729EE6EC7AF3107F&quot;</td><td>&quot;M&quot;</td><td>&quot;MI&quot;</td><td>72</td><td>&quot;MEDICARE SUPPLEMENT&quot;</td><td>0.0</td><td>&quot;104 - RENAL FAILURE AND/OR POS…</td><td>104</td><td>&quot;INJURY AND POISONING&quot;</td><td>&quot;917&quot;</td><td>4.0</td><td>&quot;POISONING&quot;</td><td>null</td><td>null</td><td>1</td><td>null</td></tr><tr><td>&quot;7965E84FF729EE6EC7AF3107F&quot;</td><td>&quot;M&quot;</td><td>&quot;MI&quot;</td><td>72</td><td>&quot;MEDICARE SUPPLEMENT&quot;</td><td>0.0</td><td>&quot;104 - RENAL FAILURE AND/OR POS…</td><td>104</td><td>&quot;INJURY AND POISONING&quot;</td><td>&quot;917&quot;</td><td>4.0</td><td>&quot;POISONING&quot;</td><td>null</td><td>null</td><td>1</td><td>null</td></tr><tr><td>&quot;7965E84FF729EE6EC7AF3107F&quot;</td><td>&quot;M&quot;</td><td>&quot;MI&quot;</td><td>72</td><td>&quot;MEDICARE SUPPLEMENT&quot;</td><td>0.0</td><td>&quot;104 - RENAL FAILURE AND/OR POS…</td><td>104</td><td>&quot;INJURY AND POISONING&quot;</td><td>&quot;917&quot;</td><td>4.0</td><td>&quot;POISONING&quot;</td><td>null</td><td>null</td><td>1</td><td>null</td></tr><tr><td>&quot;7965E84FF729EE6EC7AF3107F&quot;</td><td>&quot;M&quot;</td><td>&quot;MI&quot;</td><td>72</td><td>&quot;MEDICARE SUPPLEMENT&quot;</td><td>0.0</td><td>&quot;104 - RENAL FAILURE AND/OR POS…</td><td>104</td><td>&quot;INJURY AND POISONING&quot;</td><td>&quot;917&quot;</td><td>4.0</td><td>&quot;POISONING&quot;</td><td>null</td><td>null</td><td>1</td><td>null</td></tr></tbody></table></div>"
      ],
      "text/plain": [
       "shape: (5, 16)\n",
       "┌────────────────┬────────────┬───────────┬─────────┬───┬─────────┬──────────┬──────────┬──────────┐\n",
       "│ MEMBER_ID      ┆ MEM_GENDER ┆ MEM_STATE ┆ MEM_AGE ┆ … ┆ ADM_SRC ┆ ADM_TYPE ┆ DIS_STAT ┆ MEM_STAT │\n",
       "│ ---            ┆ ---        ┆ ---       ┆ ---     ┆   ┆ ---     ┆ ---      ┆ ---      ┆ ---      │\n",
       "│ str            ┆ str        ┆ str       ┆ i32     ┆   ┆ str     ┆ i32      ┆ i32      ┆ str      │\n",
       "╞════════════════╪════════════╪═══════════╪═════════╪═══╪═════════╪══════════╪══════════╪══════════╡\n",
       "│ 7965E84FF729EE ┆ M          ┆ MI        ┆ 72      ┆ … ┆ null    ┆ null     ┆ 1        ┆ null     │\n",
       "│ 6EC7AF3107F    ┆            ┆           ┆         ┆   ┆         ┆          ┆          ┆          │\n",
       "│ 7965E84FF729EE ┆ M          ┆ MI        ┆ 72      ┆ … ┆ null    ┆ null     ┆ 1        ┆ null     │\n",
       "│ 6EC7AF3107F    ┆            ┆           ┆         ┆   ┆         ┆          ┆          ┆          │\n",
       "│ 7965E84FF729EE ┆ M          ┆ MI        ┆ 72      ┆ … ┆ null    ┆ null     ┆ 1        ┆ null     │\n",
       "│ 6EC7AF3107F    ┆            ┆           ┆         ┆   ┆         ┆          ┆          ┆          │\n",
       "│ 7965E84FF729EE ┆ M          ┆ MI        ┆ 72      ┆ … ┆ null    ┆ null     ┆ 1        ┆ null     │\n",
       "│ 6EC7AF3107F    ┆            ┆           ┆         ┆   ┆         ┆          ┆          ┆          │\n",
       "│ 7965E84FF729EE ┆ M          ┆ MI        ┆ 72      ┆ … ┆ null    ┆ null     ┆ 1        ┆ null     │\n",
       "│ 6EC7AF3107F    ┆            ┆           ┆         ┆   ┆         ┆          ┆          ┆          │\n",
       "└────────────────┴────────────┴───────────┴─────────┴───┴─────────┴──────────┴──────────┴──────────┘"
      ]
     },
     "execution_count": 3,
     "metadata": {},
     "output_type": "execute_result"
    }
   ],
   "source": [
    "join_df = pl.read_parquet('join_df.parquet').lazy().collect()\n",
    "join_df = join_df.with_columns([\n",
    "    join_df['MEM_AGE'].str.replace(r\"\\+\", \"\").cast(pl.Int32).alias('MEM_AGE'),\n",
    "    join_df['AGE_ON_DOS'].str.replace(r\"\\+\", \"\").cast(pl.Int32).alias('AGE_ON_DOS'),\n",
    "    join_df['DIS_STAT'].cast(pl.Int32).alias('DIS_STAT'),\n",
    "    join_df['ADM_TYPE'].cast(pl.Int32).alias('ADM_TYPE'),\n",
    "    pl.when(pl.col('MEM_STAT') == \"\").then(None).otherwise(pl.col('MEM_STAT')).alias('MEM_STAT')\n",
    "])\n",
    "join_df.head()"
   ]
  },
  {
   "cell_type": "code",
   "execution_count": 4,
   "metadata": {
    "execution": {
     "iopub.execute_input": "2024-12-08T01:18:40.908505Z",
     "iopub.status.busy": "2024-12-08T01:18:40.908117Z",
     "iopub.status.idle": "2024-12-08T01:18:43.221057Z",
     "shell.execute_reply": "2024-12-08T01:18:43.219771Z",
     "shell.execute_reply.started": "2024-12-08T01:18:40.908474Z"
    },
    "trusted": true
   },
   "outputs": [
    {
     "data": {
      "text/html": [
       "<div><style>\n",
       ".dataframe > thead > tr,\n",
       ".dataframe > tbody > tr {\n",
       "  text-align: right;\n",
       "  white-space: pre-wrap;\n",
       "}\n",
       "</style>\n",
       "<small>shape: (9, 17)</small><table border=\"1\" class=\"dataframe\"><thead><tr><th>statistic</th><th>MEMBER_ID</th><th>MEM_GENDER</th><th>MEM_STATE</th><th>MEM_AGE</th><th>PAYER_LOB</th><th>QTY_MM_MD</th><th>PRIMARY_CHRONIC_CONDITION_ROLLUP_DESC</th><th>PRIMARY_CHRONIC_CONDITION_ROLLUP_ID</th><th>DIAG_CCS_1_LABEL</th><th>MS_DRG</th><th>LOS</th><th>DIAG_CCS_2_LABEL</th><th>ADM_SRC</th><th>ADM_TYPE</th><th>DIS_STAT</th><th>MEM_STAT</th></tr><tr><td>str</td><td>str</td><td>str</td><td>str</td><td>f64</td><td>str</td><td>f64</td><td>str</td><td>f64</td><td>str</td><td>str</td><td>f64</td><td>str</td><td>str</td><td>f64</td><td>f64</td><td>str</td></tr></thead><tbody><tr><td>&quot;count&quot;</td><td>&quot;19621810&quot;</td><td>&quot;19590884&quot;</td><td>&quot;19621810&quot;</td><td>1.9592296e7</td><td>&quot;19621810&quot;</td><td>1.962181e7</td><td>&quot;19169365&quot;</td><td>1.9169365e7</td><td>&quot;18073361&quot;</td><td>&quot;19621810&quot;</td><td>1.962181e7</td><td>&quot;18073361&quot;</td><td>&quot;12906139&quot;</td><td>1.301006e7</td><td>1.6699439e7</td><td>&quot;13454065&quot;</td></tr><tr><td>&quot;null_count&quot;</td><td>&quot;0&quot;</td><td>&quot;30926&quot;</td><td>&quot;0&quot;</td><td>29514.0</td><td>&quot;0&quot;</td><td>0.0</td><td>&quot;452445&quot;</td><td>452445.0</td><td>&quot;1548449&quot;</td><td>&quot;0&quot;</td><td>0.0</td><td>&quot;1548449&quot;</td><td>&quot;6715671&quot;</td><td>6.61175e6</td><td>2.922371e6</td><td>&quot;6167745&quot;</td></tr><tr><td>&quot;mean&quot;</td><td>null</td><td>null</td><td>null</td><td>54.841916</td><td>null</td><td>0.309972</td><td>null</td><td>112.070759</td><td>null</td><td>null</td><td>7.354677</td><td>null</td><td>null</td><td>1.939826</td><td>7.034146</td><td>null</td></tr><tr><td>&quot;std&quot;</td><td>null</td><td>null</td><td>null</td><td>23.024563</td><td>null</td><td>0.462482</td><td>null</td><td>11.42941</td><td>null</td><td>null</td><td>10.456992</td><td>null</td><td>null</td><td>1.640089</td><td>14.416038</td><td>null</td></tr><tr><td>&quot;min&quot;</td><td>&quot;0004E7868C200A6CAAFDAC8FE&quot;</td><td>&quot;F&quot;</td><td>&quot;CA&quot;</td><td>0.0</td><td>&quot;COMMERCIAL&quot;</td><td>0.0</td><td>&quot;101 - MAJOR PSYCHOSIS&quot;</td><td>101.0</td><td>&quot;CERTAIN CONDITIONS ORIGINATING…</td><td>&quot;001&quot;</td><td>0.0</td><td>&quot;ABDOMINAL HERNIA&quot;</td><td>&quot;1&quot;</td><td>1.0</td><td>0.0</td><td>&quot;ACTIVE&quot;</td></tr><tr><td>&quot;25%&quot;</td><td>null</td><td>null</td><td>null</td><td>37.0</td><td>null</td><td>0.0</td><td>null</td><td>104.0</td><td>null</td><td>null</td><td>2.0</td><td>null</td><td>null</td><td>1.0</td><td>1.0</td><td>null</td></tr><tr><td>&quot;50%&quot;</td><td>null</td><td>null</td><td>null</td><td>60.0</td><td>null</td><td>0.0</td><td>null</td><td>108.0</td><td>null</td><td>null</td><td>4.0</td><td>null</td><td>null</td><td>1.0</td><td>1.0</td><td>null</td></tr><tr><td>&quot;75%&quot;</td><td>null</td><td>null</td><td>null</td><td>73.0</td><td>null</td><td>1.0</td><td>null</td><td>115.0</td><td>null</td><td>null</td><td>8.0</td><td>null</td><td>null</td><td>3.0</td><td>6.0</td><td>null</td></tr><tr><td>&quot;max&quot;</td><td>&quot;FFFEEF7540B60356A1F05ADB2&quot;</td><td>&quot;M&quot;</td><td>&quot;WA&quot;</td><td>89.0</td><td>&quot;MEDICARE SUPPLEMENT&quot;</td><td>1.0</td><td>&quot;145 - OTHER HEALTHY (UNKNOWN A…</td><td>145.0</td><td>&quot;SYMPTOMS; SIGNS; AND ILL-DEFIN…</td><td>&quot;SNF&quot;</td><td>387.0</td><td>&quot;VIRAL INFECTION&quot;</td><td>&quot;F&quot;</td><td>9.0</td><td>95.0</td><td>&quot;RETIREE&quot;</td></tr></tbody></table></div>"
      ],
      "text/plain": [
       "shape: (9, 17)\n",
       "┌────────────┬───────────┬───────────┬───────────┬───┬──────────┬───────────┬───────────┬──────────┐\n",
       "│ statistic  ┆ MEMBER_ID ┆ MEM_GENDE ┆ MEM_STATE ┆ … ┆ ADM_SRC  ┆ ADM_TYPE  ┆ DIS_STAT  ┆ MEM_STAT │\n",
       "│ ---        ┆ ---       ┆ R         ┆ ---       ┆   ┆ ---      ┆ ---       ┆ ---       ┆ ---      │\n",
       "│ str        ┆ str       ┆ ---       ┆ str       ┆   ┆ str      ┆ f64       ┆ f64       ┆ str      │\n",
       "│            ┆           ┆ str       ┆           ┆   ┆          ┆           ┆           ┆          │\n",
       "╞════════════╪═══════════╪═══════════╪═══════════╪═══╪══════════╪═══════════╪═══════════╪══════════╡\n",
       "│ count      ┆ 19621810  ┆ 19590884  ┆ 19621810  ┆ … ┆ 12906139 ┆ 1.301006e ┆ 1.6699439 ┆ 13454065 │\n",
       "│            ┆           ┆           ┆           ┆   ┆          ┆ 7         ┆ e7        ┆          │\n",
       "│ null_count ┆ 0         ┆ 30926     ┆ 0         ┆ … ┆ 6715671  ┆ 6.61175e6 ┆ 2.922371e ┆ 6167745  │\n",
       "│            ┆           ┆           ┆           ┆   ┆          ┆           ┆ 6         ┆          │\n",
       "│ mean       ┆ null      ┆ null      ┆ null      ┆ … ┆ null     ┆ 1.939826  ┆ 7.034146  ┆ null     │\n",
       "│ std        ┆ null      ┆ null      ┆ null      ┆ … ┆ null     ┆ 1.640089  ┆ 14.416038 ┆ null     │\n",
       "│ min        ┆ 0004E7868 ┆ F         ┆ CA        ┆ … ┆ 1        ┆ 1.0       ┆ 0.0       ┆ ACTIVE   │\n",
       "│            ┆ C200A6CAA ┆           ┆           ┆   ┆          ┆           ┆           ┆          │\n",
       "│            ┆ FDAC8FE   ┆           ┆           ┆   ┆          ┆           ┆           ┆          │\n",
       "│ 25%        ┆ null      ┆ null      ┆ null      ┆ … ┆ null     ┆ 1.0       ┆ 1.0       ┆ null     │\n",
       "│ 50%        ┆ null      ┆ null      ┆ null      ┆ … ┆ null     ┆ 1.0       ┆ 1.0       ┆ null     │\n",
       "│ 75%        ┆ null      ┆ null      ┆ null      ┆ … ┆ null     ┆ 3.0       ┆ 6.0       ┆ null     │\n",
       "│ max        ┆ FFFEEF754 ┆ M         ┆ WA        ┆ … ┆ F        ┆ 9.0       ┆ 95.0      ┆ RETIREE  │\n",
       "│            ┆ 0B60356A1 ┆           ┆           ┆   ┆          ┆           ┆           ┆          │\n",
       "│            ┆ F05ADB2   ┆           ┆           ┆   ┆          ┆           ┆           ┆          │\n",
       "└────────────┴───────────┴───────────┴───────────┴───┴──────────┴───────────┴───────────┴──────────┘"
      ]
     },
     "execution_count": 4,
     "metadata": {},
     "output_type": "execute_result"
    }
   ],
   "source": [
    "join_df.describe()"
   ]
  },
  {
   "cell_type": "code",
   "execution_count": 32,
   "metadata": {
    "execution": {
     "iopub.execute_input": "2024-12-08T01:34:57.125921Z",
     "iopub.status.busy": "2024-12-08T01:34:57.125459Z",
     "iopub.status.idle": "2024-12-08T01:34:57.138207Z",
     "shell.execute_reply": "2024-12-08T01:34:57.137029Z",
     "shell.execute_reply.started": "2024-12-08T01:34:57.125856Z"
    },
    "trusted": true
   },
   "outputs": [
    {
     "data": {
      "text/html": [
       "<div><style>\n",
       ".dataframe > thead > tr,\n",
       ".dataframe > tbody > tr {\n",
       "  text-align: right;\n",
       "  white-space: pre-wrap;\n",
       "}\n",
       "</style>\n",
       "<small>shape: (10, 2)</small><table border=\"1\" class=\"dataframe\"><thead><tr><th>variable</th><th>value</th></tr><tr><td>str</td><td>f64</td></tr></thead><tbody><tr><td>&quot;MEM_GENDER&quot;</td><td>0.001576</td></tr><tr><td>&quot;MEM_AGE&quot;</td><td>0.001504</td></tr><tr><td>&quot;PRIMARY_CHRONIC_CONDITION_ROLL…</td><td>0.023058</td></tr><tr><td>&quot;PRIMARY_CHRONIC_CONDITION_ROLL…</td><td>0.023058</td></tr><tr><td>&quot;DIAG_CCS_1_LABEL&quot;</td><td>0.078915</td></tr><tr><td>&quot;DIAG_CCS_2_LABEL&quot;</td><td>0.078915</td></tr><tr><td>&quot;ADM_SRC&quot;</td><td>0.342255</td></tr><tr><td>&quot;ADM_TYPE&quot;</td><td>0.336959</td></tr><tr><td>&quot;DIS_STAT&quot;</td><td>0.148935</td></tr><tr><td>&quot;MEM_STAT&quot;</td><td>0.314331</td></tr></tbody></table></div>"
      ],
      "text/plain": [
       "shape: (10, 2)\n",
       "┌─────────────────────────────────┬──────────┐\n",
       "│ variable                        ┆ value    │\n",
       "│ ---                             ┆ ---      │\n",
       "│ str                             ┆ f64      │\n",
       "╞═════════════════════════════════╪══════════╡\n",
       "│ MEM_GENDER                      ┆ 0.001576 │\n",
       "│ MEM_AGE                         ┆ 0.001504 │\n",
       "│ PRIMARY_CHRONIC_CONDITION_ROLL… ┆ 0.023058 │\n",
       "│ PRIMARY_CHRONIC_CONDITION_ROLL… ┆ 0.023058 │\n",
       "│ DIAG_CCS_1_LABEL                ┆ 0.078915 │\n",
       "│ DIAG_CCS_2_LABEL                ┆ 0.078915 │\n",
       "│ ADM_SRC                         ┆ 0.342255 │\n",
       "│ ADM_TYPE                        ┆ 0.336959 │\n",
       "│ DIS_STAT                        ┆ 0.148935 │\n",
       "│ MEM_STAT                        ┆ 0.314331 │\n",
       "└─────────────────────────────────┴──────────┘"
      ]
     },
     "execution_count": 32,
     "metadata": {},
     "output_type": "execute_result"
    }
   ],
   "source": [
    "join_null = (join_df.null_count() / join_df.shape[0]).unpivot()\n",
    "join_null.filter(pl.col('value') > 0)"
   ]
  },
  {
   "cell_type": "markdown",
   "metadata": {},
   "source": [
    "## EDA (Join Data)"
   ]
  },
  {
   "cell_type": "code",
   "execution_count": 46,
   "metadata": {
    "execution": {
     "iopub.execute_input": "2024-12-07T12:11:54.554630Z",
     "iopub.status.busy": "2024-12-07T12:11:54.554141Z",
     "iopub.status.idle": "2024-12-07T12:11:56.099153Z",
     "shell.execute_reply": "2024-12-07T12:11:56.097417Z",
     "shell.execute_reply.started": "2024-12-07T12:11:54.554572Z"
    },
    "trusted": true
   },
   "outputs": [
    {
     "data": {
      "image/png": "[encoded data removed]",
      "text/plain": [
       "<Figure size 640x480 with 1 Axes>"
      ]
     },
     "metadata": {},
     "output_type": "display_data"
    }
   ],
   "source": [
    "def make_pieplot(column):\n",
    "    val_count_gender = join_df[column].value_counts()\n",
    "    plt.pie(val_count_gender['count'].to_list(), labels = val_count_gender[column].to_list(), autopct='%1.0f%%', )\n",
    "    plt.show()\n",
    "\n",
    "make_pieplot('MEM_GENDER')"
   ]
  },
  {
   "cell_type": "code",
   "execution_count": 47,
   "metadata": {
    "execution": {
     "iopub.execute_input": "2024-12-07T12:11:57.857223Z",
     "iopub.status.busy": "2024-12-07T12:11:57.856827Z",
     "iopub.status.idle": "2024-12-07T12:11:59.397980Z",
     "shell.execute_reply": "2024-12-07T12:11:59.396674Z",
     "shell.execute_reply.started": "2024-12-07T12:11:57.857191Z"
    },
    "trusted": true
   },
   "outputs": [
    {
     "data": {
      "image/png": "[encoded data removed]",
      "text/plain": [
       "<Figure size 640x480 with 1 Axes>"
      ]
     },
     "metadata": {},
     "output_type": "display_data"
    }
   ],
   "source": [
    "make_pieplot('MEM_STATE')"
   ]
  },
  {
   "cell_type": "code",
   "execution_count": 48,
   "metadata": {
    "execution": {
     "iopub.execute_input": "2024-12-07T12:12:02.954470Z",
     "iopub.status.busy": "2024-12-07T12:12:02.954086Z",
     "iopub.status.idle": "2024-12-07T12:12:04.469941Z",
     "shell.execute_reply": "2024-12-07T12:12:04.468065Z",
     "shell.execute_reply.started": "2024-12-07T12:12:02.954438Z"
    },
    "trusted": true
   },
   "outputs": [
    {
     "data": {
      "image/png": "[encoded data removed]",
      "text/plain": [
       "<Figure size 640x480 with 1 Axes>"
      ]
     },
     "metadata": {},
     "output_type": "display_data"
    }
   ],
   "source": [
    "make_pieplot('MEM_STAT')"
   ]
  },
  {
   "cell_type": "code",
   "execution_count": 52,
   "metadata": {
    "execution": {
     "iopub.execute_input": "2024-12-07T12:17:11.194213Z",
     "iopub.status.busy": "2024-12-07T12:17:11.193783Z",
     "iopub.status.idle": "2024-12-07T12:17:12.849120Z",
     "shell.execute_reply": "2024-12-07T12:17:12.847465Z",
     "shell.execute_reply.started": "2024-12-07T12:17:11.194177Z"
    },
    "trusted": true
   },
   "outputs": [
    {
     "data": {
      "image/png": "[encoded data removed]",
      "text/plain": [
       "<Figure size 640x480 with 1 Axes>"
      ]
     },
     "metadata": {},
     "output_type": "display_data"
    }
   ],
   "source": [
    "make_pieplot('PAYER_LOB')"
   ]
  },
  {
   "cell_type": "code",
   "execution_count": 76,
   "metadata": {
    "execution": {
     "iopub.execute_input": "2024-12-08T03:39:38.307896Z",
     "iopub.status.busy": "2024-12-08T03:39:38.307408Z",
     "iopub.status.idle": "2024-12-08T03:39:40.798024Z",
     "shell.execute_reply": "2024-12-08T03:39:40.796791Z",
     "shell.execute_reply.started": "2024-12-08T03:39:38.307858Z"
    },
    "trusted": true
   },
   "outputs": [
    {
     "data": {
      "text/html": [
       "<div><style>\n",
       ".dataframe > thead > tr,\n",
       ".dataframe > tbody > tr {\n",
       "  text-align: right;\n",
       "  white-space: pre-wrap;\n",
       "}\n",
       "</style>\n",
       "<small>shape: (721, 2)</small><table border=\"1\" class=\"dataframe\"><thead><tr><th>MS_DRG</th><th>count</th></tr><tr><td>str</td><td>u32</td></tr></thead><tbody><tr><td>&quot;SNF&quot;</td><td>1518990</td></tr><tr><td>&quot;871&quot;</td><td>982239</td></tr><tr><td>&quot;807&quot;</td><td>644573</td></tr><tr><td>&quot;291&quot;</td><td>346685</td></tr><tr><td>&quot;872&quot;</td><td>324275</td></tr><tr><td>&hellip;</td><td>&hellip;</td></tr><tr><td>&quot;756&quot;</td><td>37</td></tr><tr><td>&quot;136&quot;</td><td>34</td></tr><tr><td>&quot;624&quot;</td><td>33</td></tr><tr><td>&quot;727&quot;</td><td>30</td></tr><tr><td>&quot;017&quot;</td><td>15</td></tr></tbody></table></div>"
      ],
      "text/plain": [
       "shape: (721, 2)\n",
       "┌────────┬─────────┐\n",
       "│ MS_DRG ┆ count   │\n",
       "│ ---    ┆ ---     │\n",
       "│ str    ┆ u32     │\n",
       "╞════════╪═════════╡\n",
       "│ SNF    ┆ 1518990 │\n",
       "│ 871    ┆ 982239  │\n",
       "│ 807    ┆ 644573  │\n",
       "│ 291    ┆ 346685  │\n",
       "│ 872    ┆ 324275  │\n",
       "│ …      ┆ …       │\n",
       "│ 756    ┆ 37      │\n",
       "│ 136    ┆ 34      │\n",
       "│ 624    ┆ 33      │\n",
       "│ 727    ┆ 30      │\n",
       "│ 017    ┆ 15      │\n",
       "└────────┴─────────┘"
      ]
     },
     "execution_count": 76,
     "metadata": {},
     "output_type": "execute_result"
    }
   ],
   "source": [
    "join_df['MS_DRG'].value_counts().sort(by = 'count', descending = True)"
   ]
  },
  {
   "cell_type": "code",
   "execution_count": 75,
   "metadata": {
    "execution": {
     "iopub.execute_input": "2024-12-08T03:39:13.711739Z",
     "iopub.status.busy": "2024-12-08T03:39:13.710489Z",
     "iopub.status.idle": "2024-12-08T03:39:16.150129Z",
     "shell.execute_reply": "2024-12-08T03:39:16.148749Z",
     "shell.execute_reply.started": "2024-12-08T03:39:13.711630Z"
    },
    "trusted": true
   },
   "outputs": [
    {
     "data": {
      "text/html": [
       "<div><style>\n",
       ".dataframe > thead > tr,\n",
       ".dataframe > tbody > tr {\n",
       "  text-align: right;\n",
       "  white-space: pre-wrap;\n",
       "}\n",
       "</style>\n",
       "<small>shape: (11, 2)</small><table border=\"1\" class=\"dataframe\"><thead><tr><th>ADM_SRC</th><th>count</th></tr><tr><td>str</td><td>u32</td></tr></thead><tbody><tr><td>&quot;1&quot;</td><td>9713658</td></tr><tr><td>null</td><td>6715671</td></tr><tr><td>&quot;4&quot;</td><td>1416065</td></tr><tr><td>&quot;2&quot;</td><td>815280</td></tr><tr><td>&quot;5&quot;</td><td>526423</td></tr><tr><td>&hellip;</td><td>&hellip;</td></tr><tr><td>&quot;6&quot;</td><td>90385</td></tr><tr><td>&quot;D&quot;</td><td>89676</td></tr><tr><td>&quot;E&quot;</td><td>11538</td></tr><tr><td>&quot;3&quot;</td><td>5229</td></tr><tr><td>&quot;F&quot;</td><td>1638</td></tr></tbody></table></div>"
      ],
      "text/plain": [
       "shape: (11, 2)\n",
       "┌─────────┬─────────┐\n",
       "│ ADM_SRC ┆ count   │\n",
       "│ ---     ┆ ---     │\n",
       "│ str     ┆ u32     │\n",
       "╞═════════╪═════════╡\n",
       "│ 1       ┆ 9713658 │\n",
       "│ null    ┆ 6715671 │\n",
       "│ 4       ┆ 1416065 │\n",
       "│ 2       ┆ 815280  │\n",
       "│ 5       ┆ 526423  │\n",
       "│ …       ┆ …       │\n",
       "│ 6       ┆ 90385   │\n",
       "│ D       ┆ 89676   │\n",
       "│ E       ┆ 11538   │\n",
       "│ 3       ┆ 5229    │\n",
       "│ F       ┆ 1638    │\n",
       "└─────────┴─────────┘"
      ]
     },
     "execution_count": 75,
     "metadata": {},
     "output_type": "execute_result"
    }
   ],
   "source": [
    "join_df['ADM_SRC'].value_counts().sort(by = 'count', descending = True)"
   ]
  },
  {
   "cell_type": "code",
   "execution_count": 69,
   "metadata": {
    "execution": {
     "iopub.execute_input": "2024-12-07T12:46:23.079690Z",
     "iopub.status.busy": "2024-12-07T12:46:23.079167Z",
     "iopub.status.idle": "2024-12-07T12:46:23.615985Z",
     "shell.execute_reply": "2024-12-07T12:46:23.614846Z",
     "shell.execute_reply.started": "2024-12-07T12:46:23.079644Z"
    },
    "trusted": true
   },
   "outputs": [
    {
     "data": {
      "text/html": [
       "<div><style>\n",
       ".dataframe > thead > tr,\n",
       ".dataframe > tbody > tr {\n",
       "  text-align: right;\n",
       "  white-space: pre-wrap;\n",
       "}\n",
       "</style>\n",
       "<small>shape: (6, 2)</small><table border=\"1\" class=\"dataframe\"><thead><tr><th>ADM_TYPE</th><th>count</th></tr><tr><td>i32</td><td>u32</td></tr></thead><tbody><tr><td>1</td><td>7732168</td></tr><tr><td>null</td><td>6611750</td></tr><tr><td>3</td><td>2738295</td></tr><tr><td>2</td><td>1704465</td></tr><tr><td>9</td><td>426403</td></tr><tr><td>5</td><td>408729</td></tr></tbody></table></div>"
      ],
      "text/plain": [
       "shape: (6, 2)\n",
       "┌──────────┬─────────┐\n",
       "│ ADM_TYPE ┆ count   │\n",
       "│ ---      ┆ ---     │\n",
       "│ i32      ┆ u32     │\n",
       "╞══════════╪═════════╡\n",
       "│ 1        ┆ 7732168 │\n",
       "│ null     ┆ 6611750 │\n",
       "│ 3        ┆ 2738295 │\n",
       "│ 2        ┆ 1704465 │\n",
       "│ 9        ┆ 426403  │\n",
       "│ 5        ┆ 408729  │\n",
       "└──────────┴─────────┘"
      ]
     },
     "execution_count": 69,
     "metadata": {},
     "output_type": "execute_result"
    }
   ],
   "source": [
    "join_df['ADM_TYPE'].value_counts().sort(by = 'count', descending = True)"
   ]
  },
  {
   "cell_type": "code",
   "execution_count": 72,
   "metadata": {
    "execution": {
     "iopub.execute_input": "2024-12-08T03:32:16.681549Z",
     "iopub.status.busy": "2024-12-08T03:32:16.681056Z",
     "iopub.status.idle": "2024-12-08T03:32:17.597815Z",
     "shell.execute_reply": "2024-12-08T03:32:17.596432Z",
     "shell.execute_reply.started": "2024-12-08T03:32:16.681511Z"
    },
    "trusted": true
   },
   "outputs": [
    {
     "data": {
      "text/html": [
       "<div><style>\n",
       ".dataframe > thead > tr,\n",
       ".dataframe > tbody > tr {\n",
       "  text-align: right;\n",
       "  white-space: pre-wrap;\n",
       "}\n",
       "</style>\n",
       "<small>shape: (30, 2)</small><table border=\"1\" class=\"dataframe\"><thead><tr><th>DIS_STAT</th><th>count</th></tr><tr><td>i32</td><td>u32</td></tr></thead><tbody><tr><td>1</td><td>9639112</td></tr><tr><td>null</td><td>2922371</td></tr><tr><td>6</td><td>2315408</td></tr><tr><td>3</td><td>1792871</td></tr><tr><td>30</td><td>1139236</td></tr><tr><td>&hellip;</td><td>&hellip;</td></tr><tr><td>83</td><td>1320</td></tr><tr><td>9</td><td>996</td></tr><tr><td>66</td><td>578</td></tr><tr><td>95</td><td>230</td></tr><tr><td>82</td><td>17</td></tr></tbody></table></div>"
      ],
      "text/plain": [
       "shape: (30, 2)\n",
       "┌──────────┬─────────┐\n",
       "│ DIS_STAT ┆ count   │\n",
       "│ ---      ┆ ---     │\n",
       "│ i32      ┆ u32     │\n",
       "╞══════════╪═════════╡\n",
       "│ 1        ┆ 9639112 │\n",
       "│ null     ┆ 2922371 │\n",
       "│ 6        ┆ 2315408 │\n",
       "│ 3        ┆ 1792871 │\n",
       "│ 30       ┆ 1139236 │\n",
       "│ …        ┆ …       │\n",
       "│ 83       ┆ 1320    │\n",
       "│ 9        ┆ 996     │\n",
       "│ 66       ┆ 578     │\n",
       "│ 95       ┆ 230     │\n",
       "│ 82       ┆ 17      │\n",
       "└──────────┴─────────┘"
      ]
     },
     "execution_count": 72,
     "metadata": {},
     "output_type": "execute_result"
    }
   ],
   "source": [
    "join_df['DIS_STAT'].value_counts().sort(by = 'count', descending = True)"
   ]
  },
  {
   "cell_type": "code",
   "execution_count": 71,
   "metadata": {
    "execution": {
     "iopub.execute_input": "2024-12-07T12:58:46.907500Z",
     "iopub.status.busy": "2024-12-07T12:58:46.906392Z",
     "iopub.status.idle": "2024-12-07T12:58:50.662743Z",
     "shell.execute_reply": "2024-12-07T12:58:50.661351Z",
     "shell.execute_reply.started": "2024-12-07T12:58:46.907452Z"
    },
    "trusted": true
   },
   "outputs": [
    {
     "data": {
      "text/html": [
       "<div><style>\n",
       ".dataframe > thead > tr,\n",
       ".dataframe > tbody > tr {\n",
       "  text-align: right;\n",
       "  white-space: pre-wrap;\n",
       "}\n",
       "</style>\n",
       "<small>shape: (10, 2)</small><table border=\"1\" class=\"dataframe\"><thead><tr><th>DIAG_CCS_1_LABEL</th><th>count</th></tr><tr><td>str</td><td>u32</td></tr></thead><tbody><tr><td>&quot;DISEASES OF THE CIRCULATORY SY…</td><td>3249633</td></tr><tr><td>&quot;INJURY AND POISONING&quot;</td><td>2118741</td></tr><tr><td>&quot;COMPLICATIONS OF PREGNANCY; CH…</td><td>1854753</td></tr><tr><td>&quot;INFECTIOUS AND PARASITIC DISEA…</td><td>1844748</td></tr><tr><td>null</td><td>1548449</td></tr><tr><td>&quot;DISEASES OF THE DIGESTIVE SYST…</td><td>1541298</td></tr><tr><td>&quot;DISEASES OF THE RESPIRATORY SY…</td><td>1465977</td></tr><tr><td>&quot;ENDOCRINE; NUTRITIONAL; AND ME…</td><td>1131358</td></tr><tr><td>&quot;MENTAL ILLNESS&quot;</td><td>852635</td></tr><tr><td>&quot;DISEASES OF THE MUSCULOSKELETA…</td><td>835645</td></tr></tbody></table></div>"
      ],
      "text/plain": [
       "shape: (10, 2)\n",
       "┌─────────────────────────────────┬─────────┐\n",
       "│ DIAG_CCS_1_LABEL                ┆ count   │\n",
       "│ ---                             ┆ ---     │\n",
       "│ str                             ┆ u32     │\n",
       "╞═════════════════════════════════╪═════════╡\n",
       "│ DISEASES OF THE CIRCULATORY SY… ┆ 3249633 │\n",
       "│ INJURY AND POISONING            ┆ 2118741 │\n",
       "│ COMPLICATIONS OF PREGNANCY; CH… ┆ 1854753 │\n",
       "│ INFECTIOUS AND PARASITIC DISEA… ┆ 1844748 │\n",
       "│ null                            ┆ 1548449 │\n",
       "│ DISEASES OF THE DIGESTIVE SYST… ┆ 1541298 │\n",
       "│ DISEASES OF THE RESPIRATORY SY… ┆ 1465977 │\n",
       "│ ENDOCRINE; NUTRITIONAL; AND ME… ┆ 1131358 │\n",
       "│ MENTAL ILLNESS                  ┆ 852635  │\n",
       "│ DISEASES OF THE MUSCULOSKELETA… ┆ 835645  │\n",
       "└─────────────────────────────────┴─────────┘"
      ]
     },
     "execution_count": 71,
     "metadata": {},
     "output_type": "execute_result"
    }
   ],
   "source": [
    "join_df['DIAG_CCS_1_LABEL'].value_counts().sort(by = 'count', descending = True)[:10]"
   ]
  },
  {
   "cell_type": "code",
   "execution_count": 7,
   "metadata": {
    "execution": {
     "iopub.execute_input": "2024-12-08T01:19:23.459072Z",
     "iopub.status.busy": "2024-12-08T01:19:23.458678Z",
     "iopub.status.idle": "2024-12-08T01:19:25.638281Z",
     "shell.execute_reply": "2024-12-08T01:19:25.637129Z",
     "shell.execute_reply.started": "2024-12-08T01:19:23.459041Z"
    },
    "trusted": true
   },
   "outputs": [
    {
     "data": {
      "text/html": [
       "<div><style>\n",
       ".dataframe > thead > tr,\n",
       ".dataframe > tbody > tr {\n",
       "  text-align: right;\n",
       "  white-space: pre-wrap;\n",
       "}\n",
       "</style>\n",
       "<small>shape: (10, 2)</small><table border=\"1\" class=\"dataframe\"><thead><tr><th>DIAG_CCS_2_LABEL</th><th>count</th></tr><tr><td>str</td><td>u32</td></tr></thead><tbody><tr><td>&quot;BACTERIAL INFECTION&quot;</td><td>1806170</td></tr><tr><td>null</td><td>1548449</td></tr><tr><td>&quot;DISEASES OF THE HEART&quot;</td><td>1285921</td></tr><tr><td>&quot;HYPERTENSION&quot;</td><td>890441</td></tr><tr><td>&quot;COMPLICATIONS&quot;</td><td>801361</td></tr><tr><td>&quot;FRACTURES&quot;</td><td>789469</td></tr><tr><td>&quot;CEREBROVASCULAR DISEASE&quot;</td><td>788553</td></tr><tr><td>&quot;COMPLICATIONS MAINLY RELATED T…</td><td>761829</td></tr><tr><td>&quot;DISEASES OF THE URINARY SYSTEM&quot;</td><td>712511</td></tr><tr><td>&quot;DIABETES MELLITUS WITH COMPLIC…</td><td>640954</td></tr></tbody></table></div>"
      ],
      "text/plain": [
       "shape: (10, 2)\n",
       "┌─────────────────────────────────┬─────────┐\n",
       "│ DIAG_CCS_2_LABEL                ┆ count   │\n",
       "│ ---                             ┆ ---     │\n",
       "│ str                             ┆ u32     │\n",
       "╞═════════════════════════════════╪═════════╡\n",
       "│ BACTERIAL INFECTION             ┆ 1806170 │\n",
       "│ null                            ┆ 1548449 │\n",
       "│ DISEASES OF THE HEART           ┆ 1285921 │\n",
       "│ HYPERTENSION                    ┆ 890441  │\n",
       "│ COMPLICATIONS                   ┆ 801361  │\n",
       "│ FRACTURES                       ┆ 789469  │\n",
       "│ CEREBROVASCULAR DISEASE         ┆ 788553  │\n",
       "│ COMPLICATIONS MAINLY RELATED T… ┆ 761829  │\n",
       "│ DISEASES OF THE URINARY SYSTEM  ┆ 712511  │\n",
       "│ DIABETES MELLITUS WITH COMPLIC… ┆ 640954  │\n",
       "└─────────────────────────────────┴─────────┘"
      ]
     },
     "execution_count": 7,
     "metadata": {},
     "output_type": "execute_result"
    }
   ],
   "source": [
    "join_df['DIAG_CCS_2_LABEL'].value_counts().sort(by = 'count', descending = True)[:10]"
   ]
  },
  {
   "cell_type": "code",
   "execution_count": 51,
   "metadata": {
    "execution": {
     "iopub.execute_input": "2024-12-07T12:16:16.931528Z",
     "iopub.status.busy": "2024-12-07T12:16:16.931123Z",
     "iopub.status.idle": "2024-12-07T12:16:21.661656Z",
     "shell.execute_reply": "2024-12-07T12:16:21.660394Z",
     "shell.execute_reply.started": "2024-12-07T12:16:16.931494Z"
    },
    "trusted": true
   },
   "outputs": [
    {
     "data": {
      "image/png": "[encoded data removed]",
      "text/plain": [
       "<Figure size 640x480 with 6 Axes>"
      ]
     },
     "metadata": {},
     "output_type": "display_data"
    }
   ],
   "source": [
    "fig,axes = plt.subplots(3,2)\n",
    "target_li = ['LOS', 'QTY_MM_MD', 'MEM_AGE', 'DIS_STAT', 'ADM_TYPE', 'AGE_ON_DOS']\n",
    "\n",
    "for i in range(6):\n",
    "    name_col = target_li[i]\n",
    "    axes[i // 2, i % 2].hist(join_df[name_col])\n",
    "    axes[i // 2, i % 2].set_title(name_col)\n",
    "\n",
    "fig.tight_layout()"
   ]
  },
  {
   "cell_type": "markdown",
   "metadata": {},
   "source": [
    "## Data Preprocessing"
   ]
  },
  {
   "cell_type": "code",
   "execution_count": 50,
   "metadata": {
    "execution": {
     "iopub.execute_input": "2024-12-08T01:49:34.400483Z",
     "iopub.status.busy": "2024-12-08T01:49:34.399995Z",
     "iopub.status.idle": "2024-12-08T01:49:34.407413Z",
     "shell.execute_reply": "2024-12-08T01:49:34.406293Z",
     "shell.execute_reply.started": "2024-12-08T01:49:34.400447Z"
    },
    "trusted": true
   },
   "outputs": [],
   "source": [
    "train_data_index = int(len(join_df) * 0.85)\n",
    "\n",
    "train = join_df[:train_data_index]\n",
    "test = join_df[train_data_index:]"
   ]
  },
  {
   "cell_type": "code",
   "execution_count": 51,
   "metadata": {
    "execution": {
     "iopub.execute_input": "2024-12-08T01:49:36.204700Z",
     "iopub.status.busy": "2024-12-08T01:49:36.204326Z",
     "iopub.status.idle": "2024-12-08T01:50:23.421364Z",
     "shell.execute_reply": "2024-12-08T01:50:23.420130Z",
     "shell.execute_reply.started": "2024-12-08T01:49:36.204669Z"
    },
    "trusted": true
   },
   "outputs": [],
   "source": [
    "def preprocessing_data(train, test):\n",
    "    def preprocess_data(df, train_age):\n",
    "        return df.with_columns([\n",
    "            pl.when(pl.col('MEM_GENDER') == 'M').then(1).otherwise(0).alias('MEM_GENDER'),\n",
    "            df['ADM_SRC'].fill_null('9').alias('ADM_SRC'),\n",
    "            df['MEM_AGE'].fill_null(train_age).alias('MEM_AGE'),\n",
    "            df['DIAG_CCS_2_LABEL'].fill_null('Unknown').alias('DIAG_CCS_2_LABEL'),\n",
    "            df['DIAG_CCS_1_LABEL'].fill_null('Unknown').alias('DIAG_CCS_1_LABEL'),\n",
    "            df['PRIMARY_CHRONIC_CONDITION_ROLLUP_ID'].fill_null(-1).alias('PRIMARY_CHRONIC_CONDITION_ROLLUP_ID'),\n",
    "            df['ADM_TYPE'].fill_null(0).alias('ADM_TYPE'),\n",
    "            df['DIS_STAT'].fill_null(1).alias('DIS_STAT'),\n",
    "            (pl.col(\"MEM_STATE\") == \"HI\").cast(int).alias(\"State_HI\"),\n",
    "            (pl.col(\"MEM_STATE\") == \"MI\").cast(int).alias(\"State_MI\"),\n",
    "            (pl.col(\"MEM_STATE\") == \"WA\").cast(int).alias(\"State_WA\"),\n",
    "            (pl.col(\"MEM_STATE\") == \"CA\").cast(int).alias(\"State_CA\"),\n",
    "        ])\n",
    "\n",
    "    train_age = train['MEM_AGE'].median()\n",
    "    \n",
    "    train = preprocess_data(train, train_age)\n",
    "    test = preprocess_data(test, train_age)\n",
    "    \n",
    "    encoder = TargetEncoder(smoothing=2, features_to_encode=[\"PAYER_LOB\", \"DIAG_CCS_1_LABEL\",'DIAG_CCS_2_LABEL', \"MS_DRG\", \"ADM_SRC\"])\n",
    "    train = encoder.fit_transform(x=train, y=train['LOS'])\n",
    "    test = encoder.transform(x=test)\n",
    "    \n",
    "    # Drop unnecessary columns\n",
    "    columns_to_drop = ['MEMBER_ID', 'MEM_STATE','PRIMARY_CHRONIC_CONDITION_ROLLUP_DESC','MEM_STAT','QTY_MM_MD']\n",
    "    train = train.drop(columns_to_drop)\n",
    "    test = test.drop(columns_to_drop)\n",
    "    \n",
    "    return train, test, encoder\n",
    "\n",
    "# Call the function\n",
    "train, test, encoder = preprocessing_data(train, test)\n"
   ]
  },
  {
   "cell_type": "code",
   "execution_count": 52,
   "metadata": {
    "execution": {
     "iopub.execute_input": "2024-12-08T01:50:26.888430Z",
     "iopub.status.busy": "2024-12-08T01:50:26.888020Z",
     "iopub.status.idle": "2024-12-08T01:50:26.896178Z",
     "shell.execute_reply": "2024-12-08T01:50:26.894991Z",
     "shell.execute_reply.started": "2024-12-08T01:50:26.888397Z"
    },
    "trusted": true
   },
   "outputs": [
    {
     "data": {
      "text/plain": [
       "(16678538, 15)"
      ]
     },
     "execution_count": 52,
     "metadata": {},
     "output_type": "execute_result"
    }
   ],
   "source": [
    "train.shape"
   ]
  },
  {
   "cell_type": "code",
   "execution_count": 53,
   "metadata": {
    "execution": {
     "iopub.execute_input": "2024-12-08T01:50:28.120204Z",
     "iopub.status.busy": "2024-12-08T01:50:28.119746Z",
     "iopub.status.idle": "2024-12-08T01:50:28.128585Z",
     "shell.execute_reply": "2024-12-08T01:50:28.127223Z",
     "shell.execute_reply.started": "2024-12-08T01:50:28.120166Z"
    },
    "trusted": true
   },
   "outputs": [
    {
     "data": {
      "text/plain": [
       "(2943272, 15)"
      ]
     },
     "execution_count": 53,
     "metadata": {},
     "output_type": "execute_result"
    }
   ],
   "source": [
    "test.shape"
   ]
  },
  {
   "cell_type": "code",
   "execution_count": 54,
   "metadata": {
    "execution": {
     "iopub.execute_input": "2024-12-08T01:50:30.217567Z",
     "iopub.status.busy": "2024-12-08T01:50:30.217189Z",
     "iopub.status.idle": "2024-12-08T01:50:30.312350Z",
     "shell.execute_reply": "2024-12-08T01:50:30.310933Z",
     "shell.execute_reply.started": "2024-12-08T01:50:30.217535Z"
    },
    "trusted": true
   },
   "outputs": [],
   "source": [
    "x_train, y_train = train.drop('LOS'), train['LOS']\n",
    "x_test, y_test = test.drop('LOS'), test['LOS']"
   ]
  },
  {
   "cell_type": "markdown",
   "metadata": {},
   "source": [
    "## Modelling"
   ]
  },
  {
   "cell_type": "code",
   "execution_count": 63,
   "metadata": {
    "execution": {
     "iopub.execute_input": "2024-12-08T03:19:24.928516Z",
     "iopub.status.busy": "2024-12-08T03:19:24.928073Z",
     "iopub.status.idle": "2024-12-08T03:19:24.935111Z",
     "shell.execute_reply": "2024-12-08T03:19:24.933668Z",
     "shell.execute_reply.started": "2024-12-08T03:19:24.928480Z"
    },
    "trusted": true
   },
   "outputs": [],
   "source": [
    "def evaluate_prediction(model,y_actual):\n",
    "    y_pred = model.predict(x_test.to_numpy())\n",
    "    \n",
    "    print('MAE : ',mean_absolute_error(y_actual,y_pred))\n",
    "    print('RMSE : ',mean_squared_error(y_actual, y_pred, squared = False))\n",
    "    print('R2 : ',r2_score(y_actual, y_pred))"
   ]
  },
  {
   "cell_type": "markdown",
   "metadata": {},
   "source": [
    "## Model 1"
   ]
  },
  {
   "cell_type": "code",
   "execution_count": 65,
   "metadata": {
    "execution": {
     "iopub.execute_input": "2024-12-08T03:19:44.513630Z",
     "iopub.status.busy": "2024-12-08T03:19:44.513197Z",
     "iopub.status.idle": "2024-12-08T03:20:57.202692Z",
     "shell.execute_reply": "2024-12-08T03:20:57.201451Z",
     "shell.execute_reply.started": "2024-12-08T03:19:44.513595Z"
    },
    "trusted": true
   },
   "outputs": [
    {
     "data": {
      "text/html": [
       "<style>#sk-container-id-3 {color: black;background-color: white;}#sk-container-id-3 pre{padding: 0;}#sk-container-id-3 div.sk-toggleable {background-color: white;}#sk-container-id-3 label.sk-toggleable__label {cursor: pointer;display: block;width: 100%;margin-bottom: 0;padding: 0.3em;box-sizing: border-box;text-align: center;}#sk-container-id-3 label.sk-toggleable__label-arrow:before {content: \"▸\";float: left;margin-right: 0.25em;color: #696969;}#sk-container-id-3 label.sk-toggleable__label-arrow:hover:before {color: black;}#sk-container-id-3 div.sk-estimator:hover label.sk-toggleable__label-arrow:before {color: black;}#sk-container-id-3 div.sk-toggleable__content {max-height: 0;max-width: 0;overflow: hidden;text-align: left;background-color: #f0f8ff;}#sk-container-id-3 div.sk-toggleable__content pre {margin: 0.2em;color: black;border-radius: 0.25em;background-color: #f0f8ff;}#sk-container-id-3 input.sk-toggleable__control:checked~div.sk-toggleable__content {max-height: 200px;max-width: 100%;overflow: auto;}#sk-container-id-3 input.sk-toggleable__control:checked~label.sk-toggleable__label-arrow:before {content: \"▾\";}#sk-container-id-3 div.sk-estimator input.sk-toggleable__control:checked~label.sk-toggleable__label {background-color: #d4ebff;}#sk-container-id-3 div.sk-label input.sk-toggleable__control:checked~label.sk-toggleable__label {background-color: #d4ebff;}#sk-container-id-3 input.sk-hidden--visually {border: 0;clip: rect(1px 1px 1px 1px);clip: rect(1px, 1px, 1px, 1px);height: 1px;margin: -1px;overflow: hidden;padding: 0;position: absolute;width: 1px;}#sk-container-id-3 div.sk-estimator {font-family: monospace;background-color: #f0f8ff;border: 1px dotted black;border-radius: 0.25em;box-sizing: border-box;margin-bottom: 0.5em;}#sk-container-id-3 div.sk-estimator:hover {background-color: #d4ebff;}#sk-container-id-3 div.sk-parallel-item::after {content: \"\";width: 100%;border-bottom: 1px solid gray;flex-grow: 1;}#sk-container-id-3 div.sk-label:hover label.sk-toggleable__label {background-color: #d4ebff;}#sk-container-id-3 div.sk-serial::before {content: \"\";position: absolute;border-left: 1px solid gray;box-sizing: border-box;top: 0;bottom: 0;left: 50%;z-index: 0;}#sk-container-id-3 div.sk-serial {display: flex;flex-direction: column;align-items: center;background-color: white;padding-right: 0.2em;padding-left: 0.2em;position: relative;}#sk-container-id-3 div.sk-item {position: relative;z-index: 1;}#sk-container-id-3 div.sk-parallel {display: flex;align-items: stretch;justify-content: center;background-color: white;position: relative;}#sk-container-id-3 div.sk-item::before, #sk-container-id-3 div.sk-parallel-item::before {content: \"\";position: absolute;border-left: 1px solid gray;box-sizing: border-box;top: 0;bottom: 0;left: 50%;z-index: -1;}#sk-container-id-3 div.sk-parallel-item {display: flex;flex-direction: column;z-index: 1;position: relative;background-color: white;}#sk-container-id-3 div.sk-parallel-item:first-child::after {align-self: flex-end;width: 50%;}#sk-container-id-3 div.sk-parallel-item:last-child::after {align-self: flex-start;width: 50%;}#sk-container-id-3 div.sk-parallel-item:only-child::after {width: 0;}#sk-container-id-3 div.sk-dashed-wrapped {border: 1px dashed gray;margin: 0 0.4em 0.5em 0.4em;box-sizing: border-box;padding-bottom: 0.4em;background-color: white;}#sk-container-id-3 div.sk-label label {font-family: monospace;font-weight: bold;display: inline-block;line-height: 1.2em;}#sk-container-id-3 div.sk-label-container {text-align: center;}#sk-container-id-3 div.sk-container {/* jupyter's `normalize.less` sets `[hidden] { display: none; }` but bootstrap.min.css set `[hidden] { display: none !important; }` so we also need the `!important` here to be able to override the default hidden behavior on the sphinx rendered scikit-learn.org. See: https://github.com/scikit-learn/scikit-learn/issues/21755 */display: inline-block !important;position: relative;}#sk-container-id-3 div.sk-text-repr-fallback {display: none;}</style><div id=\"sk-container-id-3\" class=\"sk-top-container\"><div class=\"sk-text-repr-fallback\"><pre>XGBRegressor(base_score=None, booster=None, callbacks=None,\n",
       "             colsample_bylevel=None, colsample_bynode=None,\n",
       "             colsample_bytree=None, device=None, early_stopping_rounds=None,\n",
       "             enable_categorical=False, eval_metric=None, feature_types=None,\n",
       "             gamma=None, grow_policy=None, importance_type=None,\n",
       "             interaction_constraints=None, learning_rate=None, max_bin=None,\n",
       "             max_cat_threshold=None, max_cat_to_onehot=None,\n",
       "             max_delta_step=None, max_depth=None, max_leaves=None,\n",
       "             min_child_weight=None, missing=nan, monotone_constraints=None,\n",
       "             multi_strategy=None, n_estimators=None, n_jobs=None,\n",
       "             num_parallel_tree=None, random_state=None, ...)</pre><b>In a Jupyter environment, please rerun this cell to show the HTML representation or trust the notebook. <br />On GitHub, the HTML representation is unable to render, please try loading this page with nbviewer.org.</b></div><div class=\"sk-container\" hidden><div class=\"sk-item\"><div class=\"sk-estimator sk-toggleable\"><input class=\"sk-toggleable__control sk-hidden--visually\" id=\"sk-estimator-id-3\" type=\"checkbox\" checked><label for=\"sk-estimator-id-3\" class=\"sk-toggleable__label sk-toggleable__label-arrow\">XGBRegressor</label><div class=\"sk-toggleable__content\"><pre>XGBRegressor(base_score=None, booster=None, callbacks=None,\n",
       "             colsample_bylevel=None, colsample_bynode=None,\n",
       "             colsample_bytree=None, device=None, early_stopping_rounds=None,\n",
       "             enable_categorical=False, eval_metric=None, feature_types=None,\n",
       "             gamma=None, grow_policy=None, importance_type=None,\n",
       "             interaction_constraints=None, learning_rate=None, max_bin=None,\n",
       "             max_cat_threshold=None, max_cat_to_onehot=None,\n",
       "             max_delta_step=None, max_depth=None, max_leaves=None,\n",
       "             min_child_weight=None, missing=nan, monotone_constraints=None,\n",
       "             multi_strategy=None, n_estimators=None, n_jobs=None,\n",
       "             num_parallel_tree=None, random_state=None, ...)</pre></div></div></div></div></div>"
      ],
      "text/plain": [
       "XGBRegressor(base_score=None, booster=None, callbacks=None,\n",
       "             colsample_bylevel=None, colsample_bynode=None,\n",
       "             colsample_bytree=None, device=None, early_stopping_rounds=None,\n",
       "             enable_categorical=False, eval_metric=None, feature_types=None,\n",
       "             gamma=None, grow_policy=None, importance_type=None,\n",
       "             interaction_constraints=None, learning_rate=None, max_bin=None,\n",
       "             max_cat_threshold=None, max_cat_to_onehot=None,\n",
       "             max_delta_step=None, max_depth=None, max_leaves=None,\n",
       "             min_child_weight=None, missing=nan, monotone_constraints=None,\n",
       "             multi_strategy=None, n_estimators=None, n_jobs=None,\n",
       "             num_parallel_tree=None, random_state=None, ...)"
      ]
     },
     "execution_count": 65,
     "metadata": {},
     "output_type": "execute_result"
    }
   ],
   "source": [
    "from xgboost import XGBRegressor\n",
    "\n",
    "model = XGBRegressor()\n",
    "model.fit(x_train.to_numpy(),y_train.to_numpy())"
   ]
  },
  {
   "cell_type": "code",
   "execution_count": 66,
   "metadata": {
    "execution": {
     "iopub.execute_input": "2024-12-08T03:21:19.571639Z",
     "iopub.status.busy": "2024-12-08T03:21:19.571200Z",
     "iopub.status.idle": "2024-12-08T03:21:22.802618Z",
     "shell.execute_reply": "2024-12-08T03:21:22.801205Z",
     "shell.execute_reply.started": "2024-12-08T03:21:19.571593Z"
    },
    "trusted": true
   },
   "outputs": [
    {
     "name": "stdout",
     "output_type": "stream",
     "text": [
      "MAE :  3.216842133709043\n",
      "RMSE :  6.257464080737201\n",
      "R2 :  0.6363303122054105\n"
     ]
    }
   ],
   "source": [
    "evaluate_prediction(model,y_test.to_numpy())"
   ]
  },
  {
   "cell_type": "markdown",
   "metadata": {},
   "source": [
    "## Model 2 (Hyperparameter Tuning)"
   ]
  },
  {
   "cell_type": "code",
   "execution_count": 60,
   "metadata": {
    "collapsed": true,
    "execution": {
     "iopub.execute_input": "2024-12-08T02:16:27.648224Z",
     "iopub.status.busy": "2024-12-08T02:16:27.647638Z",
     "iopub.status.idle": "2024-12-08T03:18:34.247521Z",
     "shell.execute_reply": "2024-12-08T03:18:34.244094Z",
     "shell.execute_reply.started": "2024-12-08T02:16:27.648185Z"
    },
    "jupyter": {
     "outputs_hidden": true
    },
    "trusted": true
   },
   "outputs": [
    {
     "name": "stderr",
     "output_type": "stream",
     "text": [
      "[I 2024-12-08 02:16:27,654] A new study created in memory with name: no-name-f3abd1b9-b78e-4f87-9d4d-51090671e1a4\n",
      "[I 2024-12-08 02:19:51,575] Trial 0 finished with value: 7.83872381151567 and parameters: {'max_depth': 3, 'learning_rate': 0.17854360488648927, 'n_estimators': 403, 'subsample': 0.894662718043123, 'colsample_bytree': 0.6300622954419457, 'gamma': 0.4037301957402569, 'lambda': 0.8113198362177427, 'alpha': 0.47416083828210065}. Best is trial 0 with value: 7.83872381151567.\n",
      "[I 2024-12-08 02:23:10,159] Trial 1 finished with value: 6.536546386872762 and parameters: {'max_depth': 6, 'learning_rate': 0.036446389698648454, 'n_estimators': 269, 'subsample': 0.8807459466260803, 'colsample_bytree': 0.6330494869800245, 'gamma': 0.8653021126660911, 'lambda': 0.7638959968867836, 'alpha': 0.12765960442657856}. Best is trial 1 with value: 6.536546386872762.\n",
      "[I 2024-12-08 02:28:14,721] Trial 2 finished with value: 5.838747404416166 and parameters: {'max_depth': 5, 'learning_rate': 0.15437521829816023, 'n_estimators': 488, 'subsample': 0.7095208502554016, 'colsample_bytree': 0.7765925362890369, 'gamma': 0.3864383164565998, 'lambda': 0.5520335639805115, 'alpha': 0.008897670025723137}. Best is trial 2 with value: 5.838747404416166.\n",
      "[I 2024-12-08 02:36:53,092] Trial 3 finished with value: 4.560416731985067 and parameters: {'max_depth': 12, 'learning_rate': 0.02954718323377019, 'n_estimators': 401, 'subsample': 0.9747627702029434, 'colsample_bytree': 0.7779373609191427, 'gamma': 0.17168675705920533, 'lambda': 0.8062688894637897, 'alpha': 0.4907703211631523}. Best is trial 3 with value: 4.560416731985067.\n",
      "[I 2024-12-08 02:43:32,656] Trial 4 finished with value: 4.481544387145114 and parameters: {'max_depth': 9, 'learning_rate': 0.19531422151766314, 'n_estimators': 426, 'subsample': 0.9612401026372714, 'colsample_bytree': 0.5691420360030488, 'gamma': 0.5223798562662106, 'lambda': 0.14785754105062546, 'alpha': 0.7906679748923339}. Best is trial 4 with value: 4.481544387145114.\n",
      "[I 2024-12-08 02:45:57,643] Trial 5 finished with value: 6.896612383132946 and parameters: {'max_depth': 5, 'learning_rate': 0.11962678419402496, 'n_estimators': 227, 'subsample': 0.8359012118934723, 'colsample_bytree': 0.6404505121766859, 'gamma': 0.44471704664950934, 'lambda': 0.8166106706940819, 'alpha': 0.6436836085243945}. Best is trial 4 with value: 4.481544387145114.\n",
      "[I 2024-12-08 02:47:33,705] Trial 6 finished with value: 5.154578490622612 and parameters: {'max_depth': 9, 'learning_rate': 0.2198770238123375, 'n_estimators': 92, 'subsample': 0.7477787059713688, 'colsample_bytree': 0.6312173019505092, 'gamma': 0.004991259852068539, 'lambda': 0.10355016313435335, 'alpha': 0.3426656371411346}. Best is trial 4 with value: 4.481544387145114.\n",
      "[I 2024-12-08 02:54:24,059] Trial 8 finished with value: 8.574293766860551 and parameters: {'max_depth': 3, 'learning_rate': 0.07232884690310834, 'n_estimators': 463, 'subsample': 0.6604478282875756, 'colsample_bytree': 0.6912886017072948, 'gamma': 0.7088237648917798, 'lambda': 0.9618378435232684, 'alpha': 0.6225287391203338}. Best is trial 4 with value: 4.481544387145114.\n",
      "[I 2024-12-08 02:55:55,806] Trial 9 finished with value: 10.33130589329816 and parameters: {'max_depth': 5, 'learning_rate': 0.000113721817487036, 'n_estimators': 103, 'subsample': 0.5301076787748852, 'colsample_bytree': 0.9545732807340155, 'gamma': 0.45770931998815373, 'lambda': 0.963481844136764, 'alpha': 0.7433811702966283}. Best is trial 4 with value: 4.481544387145114.\n",
      "[I 2024-12-08 03:02:20,799] Trial 10 finished with value: 4.652476304627535 and parameters: {'max_depth': 10, 'learning_rate': 0.2837918792888673, 'n_estimators': 364, 'subsample': 0.9637602355876405, 'colsample_bytree': 0.5017929375643982, 'gamma': 0.6535720964043222, 'lambda': 0.0434466046257795, 'alpha': 0.9812262237260987}. Best is trial 4 with value: 4.481544387145114.\n",
      "[I 2024-12-08 03:09:57,129] Trial 11 finished with value: 4.8623367915864675 and parameters: {'max_depth': 12, 'learning_rate': 0.21421668482115094, 'n_estimators': 359, 'subsample': 0.9983715383323206, 'colsample_bytree': 0.8275294480917206, 'gamma': 0.14855483626185043, 'lambda': 0.3558289928611018, 'alpha': 0.9185075210658928}. Best is trial 4 with value: 4.481544387145114.\n",
      "[I 2024-12-08 03:17:43,845] Trial 12 finished with value: 4.930462283244095 and parameters: {'max_depth': 11, 'learning_rate': 0.10565128844265916, 'n_estimators': 414, 'subsample': 0.9218356150023826, 'colsample_bytree': 0.8725788654852217, 'gamma': 0.6691884726973095, 'lambda': 0.2969985397508853, 'alpha': 0.32000093821544706}. Best is trial 4 with value: 4.481544387145114.\n",
      "[W 2024-12-08 03:18:33,105] Trial 13 failed with parameters: {'max_depth': 9, 'learning_rate': 0.21803591184749194, 'n_estimators': 315, 'subsample': 0.8110568315852229, 'colsample_bytree': 0.7395674400926991, 'gamma': 0.2249760343144539, 'lambda': 0.583201506579843, 'alpha': 0.8057556524128748} because of the following error: KeyboardInterrupt().\n",
      "Traceback (most recent call last):\n",
      "  File \"/opt/conda/lib/python3.10/site-packages/optuna/study/_optimize.py\", line 197, in _run_trial\n",
      "    value_or_values = func(trial)\n",
      "  File \"/tmp/ipykernel_24/2665007695.py\", line 16, in objective\n",
      "    model.fit(x_train.to_numpy(), y_train.to_numpy())\n",
      "  File \"/opt/conda/lib/python3.10/site-packages/xgboost/core.py\", line 730, in inner_f\n",
      "    return func(**kwargs)\n",
      "  File \"/opt/conda/lib/python3.10/site-packages/xgboost/sklearn.py\", line 1090, in fit\n",
      "    self._Booster = train(\n",
      "  File \"/opt/conda/lib/python3.10/site-packages/xgboost/core.py\", line 730, in inner_f\n",
      "    return func(**kwargs)\n",
      "  File \"/opt/conda/lib/python3.10/site-packages/xgboost/training.py\", line 181, in train\n",
      "    bst.update(dtrain, i, obj)\n",
      "  File \"/opt/conda/lib/python3.10/site-packages/xgboost/core.py\", line 2051, in update\n",
      "    _LIB.XGBoosterUpdateOneIter(\n",
      "KeyboardInterrupt\n",
      "[W 2024-12-08 03:18:33,113] Trial 13 failed with value None.\n"
     ]
    },
    {
     "ename": "KeyboardInterrupt",
     "evalue": "",
     "output_type": "error",
     "traceback": [
      "\u001b[0;31m---------------------------------------------------------------------------\u001b[0m",
      "\u001b[0;31mKeyboardInterrupt\u001b[0m                         Traceback (most recent call last)",
      "Cell \u001b[0;32mIn[60], line 24\u001b[0m\n\u001b[1;32m     21\u001b[0m     \u001b[38;5;28;01mreturn\u001b[39;00m rmse\n\u001b[1;32m     23\u001b[0m study \u001b[38;5;241m=\u001b[39m optuna\u001b[38;5;241m.\u001b[39mcreate_study(direction\u001b[38;5;241m=\u001b[39m\u001b[38;5;124m'\u001b[39m\u001b[38;5;124mminimize\u001b[39m\u001b[38;5;124m'\u001b[39m) \n\u001b[0;32m---> 24\u001b[0m \u001b[43mstudy\u001b[49m\u001b[38;5;241;43m.\u001b[39;49m\u001b[43moptimize\u001b[49m\u001b[43m(\u001b[49m\u001b[43mobjective\u001b[49m\u001b[43m,\u001b[49m\u001b[43m \u001b[49m\u001b[43mn_trials\u001b[49m\u001b[38;5;241;43m=\u001b[39;49m\u001b[38;5;241;43m20\u001b[39;49m\u001b[43m)\u001b[49m  \u001b[38;5;66;03m# Run 20 trials\u001b[39;00m\n",
      "File \u001b[0;32m/opt/conda/lib/python3.10/site-packages/optuna/study/study.py:475\u001b[0m, in \u001b[0;36mStudy.optimize\u001b[0;34m(self, func, n_trials, timeout, n_jobs, catch, callbacks, gc_after_trial, show_progress_bar)\u001b[0m\n\u001b[1;32m    373\u001b[0m \u001b[38;5;28;01mdef\u001b[39;00m \u001b[38;5;21moptimize\u001b[39m(\n\u001b[1;32m    374\u001b[0m     \u001b[38;5;28mself\u001b[39m,\n\u001b[1;32m    375\u001b[0m     func: ObjectiveFuncType,\n\u001b[0;32m   (...)\u001b[0m\n\u001b[1;32m    382\u001b[0m     show_progress_bar: \u001b[38;5;28mbool\u001b[39m \u001b[38;5;241m=\u001b[39m \u001b[38;5;28;01mFalse\u001b[39;00m,\n\u001b[1;32m    383\u001b[0m ) \u001b[38;5;241m-\u001b[39m\u001b[38;5;241m>\u001b[39m \u001b[38;5;28;01mNone\u001b[39;00m:\n\u001b[1;32m    384\u001b[0m \u001b[38;5;250m    \u001b[39m\u001b[38;5;124;03m\"\"\"Optimize an objective function.\u001b[39;00m\n\u001b[1;32m    385\u001b[0m \n\u001b[1;32m    386\u001b[0m \u001b[38;5;124;03m    Optimization is done by choosing a suitable set of hyperparameter values from a given\u001b[39;00m\n\u001b[0;32m   (...)\u001b[0m\n\u001b[1;32m    473\u001b[0m \u001b[38;5;124;03m            If nested invocation of this method occurs.\u001b[39;00m\n\u001b[1;32m    474\u001b[0m \u001b[38;5;124;03m    \"\"\"\u001b[39;00m\n\u001b[0;32m--> 475\u001b[0m     \u001b[43m_optimize\u001b[49m\u001b[43m(\u001b[49m\n\u001b[1;32m    476\u001b[0m \u001b[43m        \u001b[49m\u001b[43mstudy\u001b[49m\u001b[38;5;241;43m=\u001b[39;49m\u001b[38;5;28;43mself\u001b[39;49m\u001b[43m,\u001b[49m\n\u001b[1;32m    477\u001b[0m \u001b[43m        \u001b[49m\u001b[43mfunc\u001b[49m\u001b[38;5;241;43m=\u001b[39;49m\u001b[43mfunc\u001b[49m\u001b[43m,\u001b[49m\n\u001b[1;32m    478\u001b[0m \u001b[43m        \u001b[49m\u001b[43mn_trials\u001b[49m\u001b[38;5;241;43m=\u001b[39;49m\u001b[43mn_trials\u001b[49m\u001b[43m,\u001b[49m\n\u001b[1;32m    479\u001b[0m \u001b[43m        \u001b[49m\u001b[43mtimeout\u001b[49m\u001b[38;5;241;43m=\u001b[39;49m\u001b[43mtimeout\u001b[49m\u001b[43m,\u001b[49m\n\u001b[1;32m    480\u001b[0m \u001b[43m        \u001b[49m\u001b[43mn_jobs\u001b[49m\u001b[38;5;241;43m=\u001b[39;49m\u001b[43mn_jobs\u001b[49m\u001b[43m,\u001b[49m\n\u001b[1;32m    481\u001b[0m \u001b[43m        \u001b[49m\u001b[43mcatch\u001b[49m\u001b[38;5;241;43m=\u001b[39;49m\u001b[38;5;28;43mtuple\u001b[39;49m\u001b[43m(\u001b[49m\u001b[43mcatch\u001b[49m\u001b[43m)\u001b[49m\u001b[43m \u001b[49m\u001b[38;5;28;43;01mif\u001b[39;49;00m\u001b[43m \u001b[49m\u001b[38;5;28;43misinstance\u001b[39;49m\u001b[43m(\u001b[49m\u001b[43mcatch\u001b[49m\u001b[43m,\u001b[49m\u001b[43m \u001b[49m\u001b[43mIterable\u001b[49m\u001b[43m)\u001b[49m\u001b[43m \u001b[49m\u001b[38;5;28;43;01melse\u001b[39;49;00m\u001b[43m \u001b[49m\u001b[43m(\u001b[49m\u001b[43mcatch\u001b[49m\u001b[43m,\u001b[49m\u001b[43m)\u001b[49m\u001b[43m,\u001b[49m\n\u001b[1;32m    482\u001b[0m \u001b[43m        \u001b[49m\u001b[43mcallbacks\u001b[49m\u001b[38;5;241;43m=\u001b[39;49m\u001b[43mcallbacks\u001b[49m\u001b[43m,\u001b[49m\n\u001b[1;32m    483\u001b[0m \u001b[43m        \u001b[49m\u001b[43mgc_after_trial\u001b[49m\u001b[38;5;241;43m=\u001b[39;49m\u001b[43mgc_after_trial\u001b[49m\u001b[43m,\u001b[49m\n\u001b[1;32m    484\u001b[0m \u001b[43m        \u001b[49m\u001b[43mshow_progress_bar\u001b[49m\u001b[38;5;241;43m=\u001b[39;49m\u001b[43mshow_progress_bar\u001b[49m\u001b[43m,\u001b[49m\n\u001b[1;32m    485\u001b[0m \u001b[43m    \u001b[49m\u001b[43m)\u001b[49m\n",
      "File \u001b[0;32m/opt/conda/lib/python3.10/site-packages/optuna/study/_optimize.py:63\u001b[0m, in \u001b[0;36m_optimize\u001b[0;34m(study, func, n_trials, timeout, n_jobs, catch, callbacks, gc_after_trial, show_progress_bar)\u001b[0m\n\u001b[1;32m     61\u001b[0m \u001b[38;5;28;01mtry\u001b[39;00m:\n\u001b[1;32m     62\u001b[0m     \u001b[38;5;28;01mif\u001b[39;00m n_jobs \u001b[38;5;241m==\u001b[39m \u001b[38;5;241m1\u001b[39m:\n\u001b[0;32m---> 63\u001b[0m         \u001b[43m_optimize_sequential\u001b[49m\u001b[43m(\u001b[49m\n\u001b[1;32m     64\u001b[0m \u001b[43m            \u001b[49m\u001b[43mstudy\u001b[49m\u001b[43m,\u001b[49m\n\u001b[1;32m     65\u001b[0m \u001b[43m            \u001b[49m\u001b[43mfunc\u001b[49m\u001b[43m,\u001b[49m\n\u001b[1;32m     66\u001b[0m \u001b[43m            \u001b[49m\u001b[43mn_trials\u001b[49m\u001b[43m,\u001b[49m\n\u001b[1;32m     67\u001b[0m \u001b[43m            \u001b[49m\u001b[43mtimeout\u001b[49m\u001b[43m,\u001b[49m\n\u001b[1;32m     68\u001b[0m \u001b[43m            \u001b[49m\u001b[43mcatch\u001b[49m\u001b[43m,\u001b[49m\n\u001b[1;32m     69\u001b[0m \u001b[43m            \u001b[49m\u001b[43mcallbacks\u001b[49m\u001b[43m,\u001b[49m\n\u001b[1;32m     70\u001b[0m \u001b[43m            \u001b[49m\u001b[43mgc_after_trial\u001b[49m\u001b[43m,\u001b[49m\n\u001b[1;32m     71\u001b[0m \u001b[43m            \u001b[49m\u001b[43mreseed_sampler_rng\u001b[49m\u001b[38;5;241;43m=\u001b[39;49m\u001b[38;5;28;43;01mFalse\u001b[39;49;00m\u001b[43m,\u001b[49m\n\u001b[1;32m     72\u001b[0m \u001b[43m            \u001b[49m\u001b[43mtime_start\u001b[49m\u001b[38;5;241;43m=\u001b[39;49m\u001b[38;5;28;43;01mNone\u001b[39;49;00m\u001b[43m,\u001b[49m\n\u001b[1;32m     73\u001b[0m \u001b[43m            \u001b[49m\u001b[43mprogress_bar\u001b[49m\u001b[38;5;241;43m=\u001b[39;49m\u001b[43mprogress_bar\u001b[49m\u001b[43m,\u001b[49m\n\u001b[1;32m     74\u001b[0m \u001b[43m        \u001b[49m\u001b[43m)\u001b[49m\n\u001b[1;32m     75\u001b[0m     \u001b[38;5;28;01melse\u001b[39;00m:\n\u001b[1;32m     76\u001b[0m         \u001b[38;5;28;01mif\u001b[39;00m n_jobs \u001b[38;5;241m==\u001b[39m \u001b[38;5;241m-\u001b[39m\u001b[38;5;241m1\u001b[39m:\n",
      "File \u001b[0;32m/opt/conda/lib/python3.10/site-packages/optuna/study/_optimize.py:160\u001b[0m, in \u001b[0;36m_optimize_sequential\u001b[0;34m(study, func, n_trials, timeout, catch, callbacks, gc_after_trial, reseed_sampler_rng, time_start, progress_bar)\u001b[0m\n\u001b[1;32m    157\u001b[0m         \u001b[38;5;28;01mbreak\u001b[39;00m\n\u001b[1;32m    159\u001b[0m \u001b[38;5;28;01mtry\u001b[39;00m:\n\u001b[0;32m--> 160\u001b[0m     frozen_trial \u001b[38;5;241m=\u001b[39m \u001b[43m_run_trial\u001b[49m\u001b[43m(\u001b[49m\u001b[43mstudy\u001b[49m\u001b[43m,\u001b[49m\u001b[43m \u001b[49m\u001b[43mfunc\u001b[49m\u001b[43m,\u001b[49m\u001b[43m \u001b[49m\u001b[43mcatch\u001b[49m\u001b[43m)\u001b[49m\n\u001b[1;32m    161\u001b[0m \u001b[38;5;28;01mfinally\u001b[39;00m:\n\u001b[1;32m    162\u001b[0m     \u001b[38;5;66;03m# The following line mitigates memory problems that can be occurred in some\u001b[39;00m\n\u001b[1;32m    163\u001b[0m     \u001b[38;5;66;03m# environments (e.g., services that use computing containers such as GitHub Actions).\u001b[39;00m\n\u001b[1;32m    164\u001b[0m     \u001b[38;5;66;03m# Please refer to the following PR for further details:\u001b[39;00m\n\u001b[1;32m    165\u001b[0m     \u001b[38;5;66;03m# https://github.com/optuna/optuna/pull/325.\u001b[39;00m\n\u001b[1;32m    166\u001b[0m     \u001b[38;5;28;01mif\u001b[39;00m gc_after_trial:\n",
      "File \u001b[0;32m/opt/conda/lib/python3.10/site-packages/optuna/study/_optimize.py:248\u001b[0m, in \u001b[0;36m_run_trial\u001b[0;34m(study, func, catch)\u001b[0m\n\u001b[1;32m    241\u001b[0m         \u001b[38;5;28;01massert\u001b[39;00m \u001b[38;5;28;01mFalse\u001b[39;00m, \u001b[38;5;124m\"\u001b[39m\u001b[38;5;124mShould not reach.\u001b[39m\u001b[38;5;124m\"\u001b[39m\n\u001b[1;32m    243\u001b[0m \u001b[38;5;28;01mif\u001b[39;00m (\n\u001b[1;32m    244\u001b[0m     frozen_trial\u001b[38;5;241m.\u001b[39mstate \u001b[38;5;241m==\u001b[39m TrialState\u001b[38;5;241m.\u001b[39mFAIL\n\u001b[1;32m    245\u001b[0m     \u001b[38;5;129;01mand\u001b[39;00m func_err \u001b[38;5;129;01mis\u001b[39;00m \u001b[38;5;129;01mnot\u001b[39;00m \u001b[38;5;28;01mNone\u001b[39;00m\n\u001b[1;32m    246\u001b[0m     \u001b[38;5;129;01mand\u001b[39;00m \u001b[38;5;129;01mnot\u001b[39;00m \u001b[38;5;28misinstance\u001b[39m(func_err, catch)\n\u001b[1;32m    247\u001b[0m ):\n\u001b[0;32m--> 248\u001b[0m     \u001b[38;5;28;01mraise\u001b[39;00m func_err\n\u001b[1;32m    249\u001b[0m \u001b[38;5;28;01mreturn\u001b[39;00m frozen_trial\n",
      "File \u001b[0;32m/opt/conda/lib/python3.10/site-packages/optuna/study/_optimize.py:197\u001b[0m, in \u001b[0;36m_run_trial\u001b[0;34m(study, func, catch)\u001b[0m\n\u001b[1;32m    195\u001b[0m \u001b[38;5;28;01mwith\u001b[39;00m get_heartbeat_thread(trial\u001b[38;5;241m.\u001b[39m_trial_id, study\u001b[38;5;241m.\u001b[39m_storage):\n\u001b[1;32m    196\u001b[0m     \u001b[38;5;28;01mtry\u001b[39;00m:\n\u001b[0;32m--> 197\u001b[0m         value_or_values \u001b[38;5;241m=\u001b[39m \u001b[43mfunc\u001b[49m\u001b[43m(\u001b[49m\u001b[43mtrial\u001b[49m\u001b[43m)\u001b[49m\n\u001b[1;32m    198\u001b[0m     \u001b[38;5;28;01mexcept\u001b[39;00m exceptions\u001b[38;5;241m.\u001b[39mTrialPruned \u001b[38;5;28;01mas\u001b[39;00m e:\n\u001b[1;32m    199\u001b[0m         \u001b[38;5;66;03m# TODO(mamu): Handle multi-objective cases.\u001b[39;00m\n\u001b[1;32m    200\u001b[0m         state \u001b[38;5;241m=\u001b[39m TrialState\u001b[38;5;241m.\u001b[39mPRUNED\n",
      "Cell \u001b[0;32mIn[60], line 16\u001b[0m, in \u001b[0;36mobjective\u001b[0;34m(trial)\u001b[0m\n\u001b[1;32m      4\u001b[0m param \u001b[38;5;241m=\u001b[39m {\n\u001b[1;32m      5\u001b[0m     \u001b[38;5;124m'\u001b[39m\u001b[38;5;124mmax_depth\u001b[39m\u001b[38;5;124m'\u001b[39m: trial\u001b[38;5;241m.\u001b[39msuggest_int(\u001b[38;5;124m'\u001b[39m\u001b[38;5;124mmax_depth\u001b[39m\u001b[38;5;124m'\u001b[39m, \u001b[38;5;241m3\u001b[39m, \u001b[38;5;241m12\u001b[39m),          \u001b[38;5;66;03m# Max depth of the tree\u001b[39;00m\n\u001b[1;32m      6\u001b[0m     \u001b[38;5;124m'\u001b[39m\u001b[38;5;124mlearning_rate\u001b[39m\u001b[38;5;124m'\u001b[39m: trial\u001b[38;5;241m.\u001b[39msuggest_float(\u001b[38;5;124m'\u001b[39m\u001b[38;5;124mlearning_rate\u001b[39m\u001b[38;5;124m'\u001b[39m, \u001b[38;5;241m1e-5\u001b[39m, \u001b[38;5;241m0.3\u001b[39m),  \u001b[38;5;66;03m# Learning rate\u001b[39;00m\n\u001b[0;32m   (...)\u001b[0m\n\u001b[1;32m     12\u001b[0m     \u001b[38;5;124m'\u001b[39m\u001b[38;5;124malpha\u001b[39m\u001b[38;5;124m'\u001b[39m: trial\u001b[38;5;241m.\u001b[39msuggest_float(\u001b[38;5;124m'\u001b[39m\u001b[38;5;124malpha\u001b[39m\u001b[38;5;124m'\u001b[39m, \u001b[38;5;241m1e-5\u001b[39m, \u001b[38;5;241m1.0\u001b[39m),        \u001b[38;5;66;03m# L1 regularization\u001b[39;00m\n\u001b[1;32m     13\u001b[0m }\n\u001b[1;32m     15\u001b[0m model \u001b[38;5;241m=\u001b[39m XGBRegressor(\u001b[38;5;241m*\u001b[39m\u001b[38;5;241m*\u001b[39mparam)\n\u001b[0;32m---> 16\u001b[0m \u001b[43mmodel\u001b[49m\u001b[38;5;241;43m.\u001b[39;49m\u001b[43mfit\u001b[49m\u001b[43m(\u001b[49m\u001b[43mx_train\u001b[49m\u001b[38;5;241;43m.\u001b[39;49m\u001b[43mto_numpy\u001b[49m\u001b[43m(\u001b[49m\u001b[43m)\u001b[49m\u001b[43m,\u001b[49m\u001b[43m \u001b[49m\u001b[43my_train\u001b[49m\u001b[38;5;241;43m.\u001b[39;49m\u001b[43mto_numpy\u001b[49m\u001b[43m(\u001b[49m\u001b[43m)\u001b[49m\u001b[43m)\u001b[49m\n\u001b[1;32m     18\u001b[0m y_pred \u001b[38;5;241m=\u001b[39m model\u001b[38;5;241m.\u001b[39mpredict(x_test\u001b[38;5;241m.\u001b[39mto_numpy())\n\u001b[1;32m     19\u001b[0m rmse \u001b[38;5;241m=\u001b[39m mean_squared_error(y_test\u001b[38;5;241m.\u001b[39mto_numpy(), y_pred, squared\u001b[38;5;241m=\u001b[39m\u001b[38;5;28;01mFalse\u001b[39;00m)\n",
      "File \u001b[0;32m/opt/conda/lib/python3.10/site-packages/xgboost/core.py:730\u001b[0m, in \u001b[0;36mrequire_keyword_args.<locals>.throw_if.<locals>.inner_f\u001b[0;34m(*args, **kwargs)\u001b[0m\n\u001b[1;32m    728\u001b[0m \u001b[38;5;28;01mfor\u001b[39;00m k, arg \u001b[38;5;129;01min\u001b[39;00m \u001b[38;5;28mzip\u001b[39m(sig\u001b[38;5;241m.\u001b[39mparameters, args):\n\u001b[1;32m    729\u001b[0m     kwargs[k] \u001b[38;5;241m=\u001b[39m arg\n\u001b[0;32m--> 730\u001b[0m \u001b[38;5;28;01mreturn\u001b[39;00m \u001b[43mfunc\u001b[49m\u001b[43m(\u001b[49m\u001b[38;5;241;43m*\u001b[39;49m\u001b[38;5;241;43m*\u001b[39;49m\u001b[43mkwargs\u001b[49m\u001b[43m)\u001b[49m\n",
      "File \u001b[0;32m/opt/conda/lib/python3.10/site-packages/xgboost/sklearn.py:1090\u001b[0m, in \u001b[0;36mXGBModel.fit\u001b[0;34m(self, X, y, sample_weight, base_margin, eval_set, eval_metric, early_stopping_rounds, verbose, xgb_model, sample_weight_eval_set, base_margin_eval_set, feature_weights, callbacks)\u001b[0m\n\u001b[1;32m   1079\u001b[0m     obj \u001b[38;5;241m=\u001b[39m \u001b[38;5;28;01mNone\u001b[39;00m\n\u001b[1;32m   1081\u001b[0m (\n\u001b[1;32m   1082\u001b[0m     model,\n\u001b[1;32m   1083\u001b[0m     metric,\n\u001b[0;32m   (...)\u001b[0m\n\u001b[1;32m   1088\u001b[0m     xgb_model, eval_metric, params, early_stopping_rounds, callbacks\n\u001b[1;32m   1089\u001b[0m )\n\u001b[0;32m-> 1090\u001b[0m \u001b[38;5;28mself\u001b[39m\u001b[38;5;241m.\u001b[39m_Booster \u001b[38;5;241m=\u001b[39m \u001b[43mtrain\u001b[49m\u001b[43m(\u001b[49m\n\u001b[1;32m   1091\u001b[0m \u001b[43m    \u001b[49m\u001b[43mparams\u001b[49m\u001b[43m,\u001b[49m\n\u001b[1;32m   1092\u001b[0m \u001b[43m    \u001b[49m\u001b[43mtrain_dmatrix\u001b[49m\u001b[43m,\u001b[49m\n\u001b[1;32m   1093\u001b[0m \u001b[43m    \u001b[49m\u001b[38;5;28;43mself\u001b[39;49m\u001b[38;5;241;43m.\u001b[39;49m\u001b[43mget_num_boosting_rounds\u001b[49m\u001b[43m(\u001b[49m\u001b[43m)\u001b[49m\u001b[43m,\u001b[49m\n\u001b[1;32m   1094\u001b[0m \u001b[43m    \u001b[49m\u001b[43mevals\u001b[49m\u001b[38;5;241;43m=\u001b[39;49m\u001b[43mevals\u001b[49m\u001b[43m,\u001b[49m\n\u001b[1;32m   1095\u001b[0m \u001b[43m    \u001b[49m\u001b[43mearly_stopping_rounds\u001b[49m\u001b[38;5;241;43m=\u001b[39;49m\u001b[43mearly_stopping_rounds\u001b[49m\u001b[43m,\u001b[49m\n\u001b[1;32m   1096\u001b[0m \u001b[43m    \u001b[49m\u001b[43mevals_result\u001b[49m\u001b[38;5;241;43m=\u001b[39;49m\u001b[43mevals_result\u001b[49m\u001b[43m,\u001b[49m\n\u001b[1;32m   1097\u001b[0m \u001b[43m    \u001b[49m\u001b[43mobj\u001b[49m\u001b[38;5;241;43m=\u001b[39;49m\u001b[43mobj\u001b[49m\u001b[43m,\u001b[49m\n\u001b[1;32m   1098\u001b[0m \u001b[43m    \u001b[49m\u001b[43mcustom_metric\u001b[49m\u001b[38;5;241;43m=\u001b[39;49m\u001b[43mmetric\u001b[49m\u001b[43m,\u001b[49m\n\u001b[1;32m   1099\u001b[0m \u001b[43m    \u001b[49m\u001b[43mverbose_eval\u001b[49m\u001b[38;5;241;43m=\u001b[39;49m\u001b[43mverbose\u001b[49m\u001b[43m,\u001b[49m\n\u001b[1;32m   1100\u001b[0m \u001b[43m    \u001b[49m\u001b[43mxgb_model\u001b[49m\u001b[38;5;241;43m=\u001b[39;49m\u001b[43mmodel\u001b[49m\u001b[43m,\u001b[49m\n\u001b[1;32m   1101\u001b[0m \u001b[43m    \u001b[49m\u001b[43mcallbacks\u001b[49m\u001b[38;5;241;43m=\u001b[39;49m\u001b[43mcallbacks\u001b[49m\u001b[43m,\u001b[49m\n\u001b[1;32m   1102\u001b[0m \u001b[43m\u001b[49m\u001b[43m)\u001b[49m\n\u001b[1;32m   1104\u001b[0m \u001b[38;5;28mself\u001b[39m\u001b[38;5;241m.\u001b[39m_set_evaluation_result(evals_result)\n\u001b[1;32m   1105\u001b[0m \u001b[38;5;28;01mreturn\u001b[39;00m \u001b[38;5;28mself\u001b[39m\n",
      "File \u001b[0;32m/opt/conda/lib/python3.10/site-packages/xgboost/core.py:730\u001b[0m, in \u001b[0;36mrequire_keyword_args.<locals>.throw_if.<locals>.inner_f\u001b[0;34m(*args, **kwargs)\u001b[0m\n\u001b[1;32m    728\u001b[0m \u001b[38;5;28;01mfor\u001b[39;00m k, arg \u001b[38;5;129;01min\u001b[39;00m \u001b[38;5;28mzip\u001b[39m(sig\u001b[38;5;241m.\u001b[39mparameters, args):\n\u001b[1;32m    729\u001b[0m     kwargs[k] \u001b[38;5;241m=\u001b[39m arg\n\u001b[0;32m--> 730\u001b[0m \u001b[38;5;28;01mreturn\u001b[39;00m \u001b[43mfunc\u001b[49m\u001b[43m(\u001b[49m\u001b[38;5;241;43m*\u001b[39;49m\u001b[38;5;241;43m*\u001b[39;49m\u001b[43mkwargs\u001b[49m\u001b[43m)\u001b[49m\n",
      "File \u001b[0;32m/opt/conda/lib/python3.10/site-packages/xgboost/training.py:181\u001b[0m, in \u001b[0;36mtrain\u001b[0;34m(params, dtrain, num_boost_round, evals, obj, feval, maximize, early_stopping_rounds, evals_result, verbose_eval, xgb_model, callbacks, custom_metric)\u001b[0m\n\u001b[1;32m    179\u001b[0m \u001b[38;5;28;01mif\u001b[39;00m cb_container\u001b[38;5;241m.\u001b[39mbefore_iteration(bst, i, dtrain, evals):\n\u001b[1;32m    180\u001b[0m     \u001b[38;5;28;01mbreak\u001b[39;00m\n\u001b[0;32m--> 181\u001b[0m \u001b[43mbst\u001b[49m\u001b[38;5;241;43m.\u001b[39;49m\u001b[43mupdate\u001b[49m\u001b[43m(\u001b[49m\u001b[43mdtrain\u001b[49m\u001b[43m,\u001b[49m\u001b[43m \u001b[49m\u001b[43mi\u001b[49m\u001b[43m,\u001b[49m\u001b[43m \u001b[49m\u001b[43mobj\u001b[49m\u001b[43m)\u001b[49m\n\u001b[1;32m    182\u001b[0m \u001b[38;5;28;01mif\u001b[39;00m cb_container\u001b[38;5;241m.\u001b[39mafter_iteration(bst, i, dtrain, evals):\n\u001b[1;32m    183\u001b[0m     \u001b[38;5;28;01mbreak\u001b[39;00m\n",
      "File \u001b[0;32m/opt/conda/lib/python3.10/site-packages/xgboost/core.py:2051\u001b[0m, in \u001b[0;36mBooster.update\u001b[0;34m(self, dtrain, iteration, fobj)\u001b[0m\n\u001b[1;32m   2047\u001b[0m \u001b[38;5;28mself\u001b[39m\u001b[38;5;241m.\u001b[39m_assign_dmatrix_features(dtrain)\n\u001b[1;32m   2049\u001b[0m \u001b[38;5;28;01mif\u001b[39;00m fobj \u001b[38;5;129;01mis\u001b[39;00m \u001b[38;5;28;01mNone\u001b[39;00m:\n\u001b[1;32m   2050\u001b[0m     _check_call(\n\u001b[0;32m-> 2051\u001b[0m         \u001b[43m_LIB\u001b[49m\u001b[38;5;241;43m.\u001b[39;49m\u001b[43mXGBoosterUpdateOneIter\u001b[49m\u001b[43m(\u001b[49m\n\u001b[1;32m   2052\u001b[0m \u001b[43m            \u001b[49m\u001b[38;5;28;43mself\u001b[39;49m\u001b[38;5;241;43m.\u001b[39;49m\u001b[43mhandle\u001b[49m\u001b[43m,\u001b[49m\u001b[43m \u001b[49m\u001b[43mctypes\u001b[49m\u001b[38;5;241;43m.\u001b[39;49m\u001b[43mc_int\u001b[49m\u001b[43m(\u001b[49m\u001b[43miteration\u001b[49m\u001b[43m)\u001b[49m\u001b[43m,\u001b[49m\u001b[43m \u001b[49m\u001b[43mdtrain\u001b[49m\u001b[38;5;241;43m.\u001b[39;49m\u001b[43mhandle\u001b[49m\n\u001b[1;32m   2053\u001b[0m \u001b[43m        \u001b[49m\u001b[43m)\u001b[49m\n\u001b[1;32m   2054\u001b[0m     )\n\u001b[1;32m   2055\u001b[0m \u001b[38;5;28;01melse\u001b[39;00m:\n\u001b[1;32m   2056\u001b[0m     pred \u001b[38;5;241m=\u001b[39m \u001b[38;5;28mself\u001b[39m\u001b[38;5;241m.\u001b[39mpredict(dtrain, output_margin\u001b[38;5;241m=\u001b[39m\u001b[38;5;28;01mTrue\u001b[39;00m, training\u001b[38;5;241m=\u001b[39m\u001b[38;5;28;01mTrue\u001b[39;00m)\n",
      "\u001b[0;31mKeyboardInterrupt\u001b[0m: "
     ]
    }
   ],
   "source": [
    "import optuna \n",
    "\n",
    "def objective(trial):\n",
    "    param = {\n",
    "        'max_depth': trial.suggest_int('max_depth', 3, 12),          # Max depth of the tree\n",
    "        'learning_rate': trial.suggest_float('learning_rate', 1e-5, 0.3),  # Learning rate\n",
    "        'n_estimators': trial.suggest_int('n_estimators', 50, 500),  # Number of trees\n",
    "        'subsample': trial.suggest_float('subsample', 0.5, 1.0),    # Subsample ratio\n",
    "        'colsample_bytree': trial.suggest_float('colsample_bytree', 0.5, 1.0),  # Feature subsample ratio\n",
    "        'gamma': trial.suggest_float('gamma', 1e-5, 1.0),        # Regularization parameter\n",
    "        'lambda': trial.suggest_float('lambda', 1e-5, 1.0),      # L2 regularization\n",
    "        'alpha': trial.suggest_float('alpha', 1e-5, 1.0),        # L1 regularization\n",
    "    }\n",
    "    \n",
    "    model = XGBRegressor(**param)\n",
    "    model.fit(x_train.to_numpy(), y_train.to_numpy())\n",
    "    \n",
    "    y_pred = model.predict(x_test.to_numpy())\n",
    "    mse = mean_squared_error(y_test.to_numpy(), y_pred, squared=False)\n",
    "    \n",
    "    return mse\n",
    "\n",
    "study = optuna.create_study(direction='minimize') \n",
    "study.optimize(objective, n_trials=20)  # Run 20 trials"
   ]
  },
  {
   "cell_type": "code",
   "execution_count": 68,
   "metadata": {
    "execution": {
     "iopub.execute_input": "2024-12-08T03:22:33.809575Z",
     "iopub.status.busy": "2024-12-08T03:22:33.809170Z",
     "iopub.status.idle": "2024-12-08T03:22:33.816523Z",
     "shell.execute_reply": "2024-12-08T03:22:33.815314Z",
     "shell.execute_reply.started": "2024-12-08T03:22:33.809543Z"
    },
    "trusted": true
   },
   "outputs": [
    {
     "name": "stdout",
     "output_type": "stream",
     "text": [
      "RMSE :  4.481544387145114\n",
      "BEST PARAMS :  {'max_depth': 9, 'learning_rate': 0.19531422151766314, 'n_estimators': 426, 'subsample': 0.9612401026372714, 'colsample_bytree': 0.5691420360030488, 'gamma': 0.5223798562662106, 'lambda': 0.14785754105062546, 'alpha': 0.7906679748923339}\n"
     ]
    }
   ],
   "source": [
    "print('RMSE : ',study.best_value)\n",
    "print('BEST PARAMS : ',study.best_params)\n"
   ]
  },
  {
   "cell_type": "code",
   "execution_count": 69,
   "metadata": {
    "execution": {
     "iopub.execute_input": "2024-12-08T03:23:23.403666Z",
     "iopub.status.busy": "2024-12-08T03:23:23.403235Z",
     "iopub.status.idle": "2024-12-08T03:30:02.098791Z",
     "shell.execute_reply": "2024-12-08T03:30:02.097424Z",
     "shell.execute_reply.started": "2024-12-08T03:23:23.403629Z"
    },
    "trusted": true
   },
   "outputs": [
    {
     "data": {
      "text/html": [
       "<style>#sk-container-id-4 {color: black;background-color: white;}#sk-container-id-4 pre{padding: 0;}#sk-container-id-4 div.sk-toggleable {background-color: white;}#sk-container-id-4 label.sk-toggleable__label {cursor: pointer;display: block;width: 100%;margin-bottom: 0;padding: 0.3em;box-sizing: border-box;text-align: center;}#sk-container-id-4 label.sk-toggleable__label-arrow:before {content: \"▸\";float: left;margin-right: 0.25em;color: #696969;}#sk-container-id-4 label.sk-toggleable__label-arrow:hover:before {color: black;}#sk-container-id-4 div.sk-estimator:hover label.sk-toggleable__label-arrow:before {color: black;}#sk-container-id-4 div.sk-toggleable__content {max-height: 0;max-width: 0;overflow: hidden;text-align: left;background-color: #f0f8ff;}#sk-container-id-4 div.sk-toggleable__content pre {margin: 0.2em;color: black;border-radius: 0.25em;background-color: #f0f8ff;}#sk-container-id-4 input.sk-toggleable__control:checked~div.sk-toggleable__content {max-height: 200px;max-width: 100%;overflow: auto;}#sk-container-id-4 input.sk-toggleable__control:checked~label.sk-toggleable__label-arrow:before {content: \"▾\";}#sk-container-id-4 div.sk-estimator input.sk-toggleable__control:checked~label.sk-toggleable__label {background-color: #d4ebff;}#sk-container-id-4 div.sk-label input.sk-toggleable__control:checked~label.sk-toggleable__label {background-color: #d4ebff;}#sk-container-id-4 input.sk-hidden--visually {border: 0;clip: rect(1px 1px 1px 1px);clip: rect(1px, 1px, 1px, 1px);height: 1px;margin: -1px;overflow: hidden;padding: 0;position: absolute;width: 1px;}#sk-container-id-4 div.sk-estimator {font-family: monospace;background-color: #f0f8ff;border: 1px dotted black;border-radius: 0.25em;box-sizing: border-box;margin-bottom: 0.5em;}#sk-container-id-4 div.sk-estimator:hover {background-color: #d4ebff;}#sk-container-id-4 div.sk-parallel-item::after {content: \"\";width: 100%;border-bottom: 1px solid gray;flex-grow: 1;}#sk-container-id-4 div.sk-label:hover label.sk-toggleable__label {background-color: #d4ebff;}#sk-container-id-4 div.sk-serial::before {content: \"\";position: absolute;border-left: 1px solid gray;box-sizing: border-box;top: 0;bottom: 0;left: 50%;z-index: 0;}#sk-container-id-4 div.sk-serial {display: flex;flex-direction: column;align-items: center;background-color: white;padding-right: 0.2em;padding-left: 0.2em;position: relative;}#sk-container-id-4 div.sk-item {position: relative;z-index: 1;}#sk-container-id-4 div.sk-parallel {display: flex;align-items: stretch;justify-content: center;background-color: white;position: relative;}#sk-container-id-4 div.sk-item::before, #sk-container-id-4 div.sk-parallel-item::before {content: \"\";position: absolute;border-left: 1px solid gray;box-sizing: border-box;top: 0;bottom: 0;left: 50%;z-index: -1;}#sk-container-id-4 div.sk-parallel-item {display: flex;flex-direction: column;z-index: 1;position: relative;background-color: white;}#sk-container-id-4 div.sk-parallel-item:first-child::after {align-self: flex-end;width: 50%;}#sk-container-id-4 div.sk-parallel-item:last-child::after {align-self: flex-start;width: 50%;}#sk-container-id-4 div.sk-parallel-item:only-child::after {width: 0;}#sk-container-id-4 div.sk-dashed-wrapped {border: 1px dashed gray;margin: 0 0.4em 0.5em 0.4em;box-sizing: border-box;padding-bottom: 0.4em;background-color: white;}#sk-container-id-4 div.sk-label label {font-family: monospace;font-weight: bold;display: inline-block;line-height: 1.2em;}#sk-container-id-4 div.sk-label-container {text-align: center;}#sk-container-id-4 div.sk-container {/* jupyter's `normalize.less` sets `[hidden] { display: none; }` but bootstrap.min.css set `[hidden] { display: none !important; }` so we also need the `!important` here to be able to override the default hidden behavior on the sphinx rendered scikit-learn.org. See: https://github.com/scikit-learn/scikit-learn/issues/21755 */display: inline-block !important;position: relative;}#sk-container-id-4 div.sk-text-repr-fallback {display: none;}</style><div id=\"sk-container-id-4\" class=\"sk-top-container\"><div class=\"sk-text-repr-fallback\"><pre>XGBRegressor(alpha=0.7906679748923339, base_score=None, booster=None,\n",
       "             callbacks=None, colsample_bylevel=None, colsample_bynode=None,\n",
       "             colsample_bytree=0.5691420360030488, device=None,\n",
       "             early_stopping_rounds=None, enable_categorical=False,\n",
       "             eval_metric=None, feature_types=None, gamma=0.5223798562662106,\n",
       "             grow_policy=None, importance_type=None,\n",
       "             interaction_constraints=None, lambda=0.14785754105062546,\n",
       "             learning_rate=0.19531422151766314, max_bin=None,\n",
       "             max_cat_threshold=None, max_cat_to_onehot=None,\n",
       "             max_delta_step=None, max_depth=9, max_leaves=None,\n",
       "             min_child_weight=None, missing=nan, monotone_constraints=None,\n",
       "             multi_strategy=None, n_estimators=426, n_jobs=None, ...)</pre><b>In a Jupyter environment, please rerun this cell to show the HTML representation or trust the notebook. <br />On GitHub, the HTML representation is unable to render, please try loading this page with nbviewer.org.</b></div><div class=\"sk-container\" hidden><div class=\"sk-item\"><div class=\"sk-estimator sk-toggleable\"><input class=\"sk-toggleable__control sk-hidden--visually\" id=\"sk-estimator-id-4\" type=\"checkbox\" checked><label for=\"sk-estimator-id-4\" class=\"sk-toggleable__label sk-toggleable__label-arrow\">XGBRegressor</label><div class=\"sk-toggleable__content\"><pre>XGBRegressor(alpha=0.7906679748923339, base_score=None, booster=None,\n",
       "             callbacks=None, colsample_bylevel=None, colsample_bynode=None,\n",
       "             colsample_bytree=0.5691420360030488, device=None,\n",
       "             early_stopping_rounds=None, enable_categorical=False,\n",
       "             eval_metric=None, feature_types=None, gamma=0.5223798562662106,\n",
       "             grow_policy=None, importance_type=None,\n",
       "             interaction_constraints=None, lambda=0.14785754105062546,\n",
       "             learning_rate=0.19531422151766314, max_bin=None,\n",
       "             max_cat_threshold=None, max_cat_to_onehot=None,\n",
       "             max_delta_step=None, max_depth=9, max_leaves=None,\n",
       "             min_child_weight=None, missing=nan, monotone_constraints=None,\n",
       "             multi_strategy=None, n_estimators=426, n_jobs=None, ...)</pre></div></div></div></div></div>"
      ],
      "text/plain": [
       "XGBRegressor(alpha=0.7906679748923339, base_score=None, booster=None,\n",
       "             callbacks=None, colsample_bylevel=None, colsample_bynode=None,\n",
       "             colsample_bytree=0.5691420360030488, device=None,\n",
       "             early_stopping_rounds=None, enable_categorical=False,\n",
       "             eval_metric=None, feature_types=None, gamma=0.5223798562662106,\n",
       "             grow_policy=None, importance_type=None,\n",
       "             interaction_constraints=None, lambda=0.14785754105062546,\n",
       "             learning_rate=0.19531422151766314, max_bin=None,\n",
       "             max_cat_threshold=None, max_cat_to_onehot=None,\n",
       "             max_delta_step=None, max_depth=9, max_leaves=None,\n",
       "             min_child_weight=None, missing=nan, monotone_constraints=None,\n",
       "             multi_strategy=None, n_estimators=426, n_jobs=None, ...)"
      ]
     },
     "execution_count": 69,
     "metadata": {},
     "output_type": "execute_result"
    }
   ],
   "source": [
    "model_2 = XGBRegressor(**study.best_params)\n",
    "model_2.fit(x_train.to_numpy(),y_train.to_numpy())"
   ]
  },
  {
   "cell_type": "code",
   "execution_count": 70,
   "metadata": {
    "execution": {
     "iopub.execute_input": "2024-12-08T03:30:43.809759Z",
     "iopub.status.busy": "2024-12-08T03:30:43.809279Z",
     "iopub.status.idle": "2024-12-08T03:31:08.598388Z",
     "shell.execute_reply": "2024-12-08T03:31:08.596935Z",
     "shell.execute_reply.started": "2024-12-08T03:30:43.809718Z"
    },
    "trusted": true
   },
   "outputs": [
    {
     "name": "stdout",
     "output_type": "stream",
     "text": [
      "MAE :  2.141755693612714\n",
      "RMSE :  4.481544387145114\n",
      "R2 :  0.8134626608614552\n"
     ]
    }
   ],
   "source": [
    "evaluate_prediction(model_2,y_test.to_numpy())"
   ]
  },
  {
   "cell_type": "markdown",
   "metadata": {},
   "source": []
  },
  {
   "cell_type": "code",
   "execution_count": 71,
   "metadata": {
    "execution": {
     "iopub.execute_input": "2024-12-08T03:31:30.525766Z",
     "iopub.status.busy": "2024-12-08T03:31:30.525317Z",
     "iopub.status.idle": "2024-12-08T03:31:31.319966Z",
     "shell.execute_reply": "2024-12-08T03:31:31.318440Z",
     "shell.execute_reply.started": "2024-12-08T03:31:30.525698Z"
    },
    "trusted": true
   },
   "outputs": [
    {
     "data": {
      "text/plain": [
       "<BarContainer object of 14 artists>"
      ]
     },
     "execution_count": 71,
     "metadata": {},
     "output_type": "execute_result"
    },
    {
     "data": {
      "image/png": "[encoded data removed]",
      "text/plain": [
       "<Figure size 640x480 with 1 Axes>"
      ]
     },
     "metadata": {},
     "output_type": "display_data"
    }
   ],
   "source": [
    "import matplotlib.pyplot as plt\n",
    "plt.barh(x_train.columns , model_2.feature_importances_)\n"
   ]
  },
  {
   "cell_type": "markdown",
   "metadata": {},
   "source": [
    "## Deployment"
   ]
  },
  {
   "cell_type": "code",
   "execution_count": 77,
   "metadata": {
    "execution": {
     "iopub.execute_input": "2024-12-08T03:42:15.766016Z",
     "iopub.status.busy": "2024-12-08T03:42:15.765455Z",
     "iopub.status.idle": "2024-12-08T03:42:17.832870Z",
     "shell.execute_reply": "2024-12-08T03:42:17.831536Z",
     "shell.execute_reply.started": "2024-12-08T03:42:15.765976Z"
    },
    "trusted": true
   },
   "outputs": [
    {
     "data": {
      "text/plain": [
       "['target_encoder.pkl']"
      ]
     },
     "execution_count": 77,
     "metadata": {},
     "output_type": "execute_result"
    }
   ],
   "source": [
    "import joblib\n",
    "\n",
    "unique_diag_label = join_df['DIAG_CCS_1_LABEL'].unique().to_list()\n",
    "unique_diag_label_2 = join_df['DIAG_CCS_2_LABEL'].unique().to_list()\n",
    "chronic_condition = join_df['PRIMARY_CHRONIC_CONDITION_ROLLUP_DESC'].unique().to_list()\n",
    "ms_drg = join_df['MS_DRG'].unique().to_list()\n",
    "adm_src = join_df['ADM_SRC'].unique().to_list()\n",
    "\n",
    "joblib.dump(unique_diag_label, 'unique_diag_label.pkl')\n",
    "joblib.dump(unique_diag_label_2, 'unique_diag_label_2.pkl')\n",
    "joblib.dump(chronic_condition, 'chronic_condition.pkl')\n",
    "joblib.dump(ms_drg, 'ms_drg.pkl')\n",
    "joblib.dump(adm_src, 'adm_src.pkl')\n",
    "\n",
    "joblib.dump(model,'xgboost.pkl')\n",
    "joblib.dump(encoder,'target_encoder.pkl')"
   ]
  },
  {
   "cell_type": "code",
   "execution_count": null,
   "metadata": {
    "execution": {
     "iopub.status.busy": "2024-12-07T16:15:56.955666Z",
     "iopub.status.idle": "2024-12-07T16:15:56.956094Z",
     "shell.execute_reply": "2024-12-07T16:15:56.955909Z",
     "shell.execute_reply.started": "2024-12-07T16:15:56.955891Z"
    },
    "trusted": true
   },
   "outputs": [],
   "source": []
  },
  {
   "cell_type": "code",
   "execution_count": null,
   "metadata": {
    "trusted": true
   },
   "outputs": [],
   "source": []
  }
 ],
 "metadata": {
  "colab": {
   "provenance": []
  },
  "kaggle": {
   "accelerator": "none",
   "dataSources": [],
   "dockerImageVersionId": 30804,
   "isGpuEnabled": false,
   "isInternetEnabled": true,
   "language": "python",
   "sourceType": "notebook"
  },
  "kernelspec": {
   "display_name": "Python 3",
   "language": "python",
   "name": "python3"
  },
  "language_info": {
   "codemirror_mode": {
    "name": "ipython",
    "version": 3
   },
   "file_extension": ".py",
   "mimetype": "text/x-python",
   "name": "python",
   "nbconvert_exporter": "python",
   "pygments_lexer": "ipython3",
   "version": "3.10.14"
  }
 },
 "nbformat": 4,
 "nbformat_minor": 4
}
